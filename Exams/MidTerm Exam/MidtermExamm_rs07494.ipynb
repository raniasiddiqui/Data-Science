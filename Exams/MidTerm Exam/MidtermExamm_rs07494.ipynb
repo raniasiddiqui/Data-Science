{
 "cells": [
  {
   "cell_type": "markdown",
   "id": "871bffa4",
   "metadata": {},
   "source": [
    "### Name: Rania Siddiqui \n",
    "### ID 07494 "
   ]
  },
  {
   "cell_type": "markdown",
   "id": "412a33f0",
   "metadata": {
    "tags": []
   },
   "source": [
    "# movies-1.csv and movies-2.csv"
   ]
  },
  {
   "cell_type": "markdown",
   "id": "0a156bc2",
   "metadata": {},
   "source": [
    "Import libraries here"
   ]
  },
  {
   "cell_type": "code",
   "execution_count": 4,
   "id": "b9c72501",
   "metadata": {},
   "outputs": [],
   "source": [
    "import pandas as pd\n",
    "import numpy as np\n",
    "import matplotlib.pyplot as plt\n",
    "import seaborn as sns\n",
    "from scipy import stats"
   ]
  },
  {
   "cell_type": "code",
   "execution_count": null,
   "id": "0831e314",
   "metadata": {},
   "outputs": [],
   "source": []
  },
  {
   "cell_type": "code",
   "execution_count": null,
   "id": "97426a06",
   "metadata": {},
   "outputs": [],
   "source": []
  },
  {
   "cell_type": "markdown",
   "id": "176efe30",
   "metadata": {},
   "source": [
    "Read datasets here"
   ]
  },
  {
   "cell_type": "code",
   "execution_count": 12,
   "id": "7633f30f",
   "metadata": {},
   "outputs": [
    {
     "data": {
      "text/html": [
       "<div>\n",
       "<style scoped>\n",
       "    .dataframe tbody tr th:only-of-type {\n",
       "        vertical-align: middle;\n",
       "    }\n",
       "\n",
       "    .dataframe tbody tr th {\n",
       "        vertical-align: top;\n",
       "    }\n",
       "\n",
       "    .dataframe thead th {\n",
       "        text-align: right;\n",
       "    }\n",
       "</style>\n",
       "<table border=\"1\" class=\"dataframe\">\n",
       "  <thead>\n",
       "    <tr style=\"text-align: right;\">\n",
       "      <th></th>\n",
       "      <th>show_id</th>\n",
       "      <th>type</th>\n",
       "      <th>title</th>\n",
       "      <th>director</th>\n",
       "      <th>cast</th>\n",
       "      <th>country</th>\n",
       "      <th>date_added</th>\n",
       "      <th>release_year</th>\n",
       "      <th>description</th>\n",
       "    </tr>\n",
       "  </thead>\n",
       "  <tbody>\n",
       "    <tr>\n",
       "      <th>0</th>\n",
       "      <td>s1</td>\n",
       "      <td>Movie</td>\n",
       "      <td>Dick Johnson Is Dead</td>\n",
       "      <td>Kirsten Johnson</td>\n",
       "      <td>NaN</td>\n",
       "      <td>United States</td>\n",
       "      <td>25-Sep-21</td>\n",
       "      <td>2020</td>\n",
       "      <td>As her father nears the end of his life, filmm...</td>\n",
       "    </tr>\n",
       "    <tr>\n",
       "      <th>1</th>\n",
       "      <td>s2</td>\n",
       "      <td>TV Show</td>\n",
       "      <td>Blood &amp; Water</td>\n",
       "      <td>NaN</td>\n",
       "      <td>Ama Qamata, Khosi Ngema, Gail Mabalane, Thaban...</td>\n",
       "      <td>South Africa</td>\n",
       "      <td>24-Sep-21</td>\n",
       "      <td>2021</td>\n",
       "      <td>After crossing paths at a party, a Cape Town t...</td>\n",
       "    </tr>\n",
       "    <tr>\n",
       "      <th>2</th>\n",
       "      <td>s3</td>\n",
       "      <td>TV Show</td>\n",
       "      <td>Ganglands</td>\n",
       "      <td>Julien Leclercq</td>\n",
       "      <td>Sami Bouajila, Tracy Gotoas, Samuel Jouy, Nabi...</td>\n",
       "      <td>NaN</td>\n",
       "      <td>24-Sep-21</td>\n",
       "      <td>2021</td>\n",
       "      <td>To protect his family from a powerful drug lor...</td>\n",
       "    </tr>\n",
       "    <tr>\n",
       "      <th>3</th>\n",
       "      <td>s4</td>\n",
       "      <td>TV Show</td>\n",
       "      <td>Jailbirds New Orleans</td>\n",
       "      <td>NaN</td>\n",
       "      <td>NaN</td>\n",
       "      <td>NaN</td>\n",
       "      <td>24-Sep-21</td>\n",
       "      <td>2021</td>\n",
       "      <td>Feuds, flirtations and toilet talk go down amo...</td>\n",
       "    </tr>\n",
       "    <tr>\n",
       "      <th>4</th>\n",
       "      <td>s5</td>\n",
       "      <td>TV Show</td>\n",
       "      <td>Kota Factory</td>\n",
       "      <td>NaN</td>\n",
       "      <td>Mayur More, Jitendra Kumar, Ranjan Raj, Alam K...</td>\n",
       "      <td>India</td>\n",
       "      <td>24-Sep-21</td>\n",
       "      <td>2021</td>\n",
       "      <td>In a city of coaching centers known to train I...</td>\n",
       "    </tr>\n",
       "  </tbody>\n",
       "</table>\n",
       "</div>"
      ],
      "text/plain": [
       "  show_id     type                  title         director  \\\n",
       "0      s1    Movie   Dick Johnson Is Dead  Kirsten Johnson   \n",
       "1      s2  TV Show          Blood & Water              NaN   \n",
       "2      s3  TV Show              Ganglands  Julien Leclercq   \n",
       "3      s4  TV Show  Jailbirds New Orleans              NaN   \n",
       "4      s5  TV Show           Kota Factory              NaN   \n",
       "\n",
       "                                                cast        country  \\\n",
       "0                                                NaN  United States   \n",
       "1  Ama Qamata, Khosi Ngema, Gail Mabalane, Thaban...   South Africa   \n",
       "2  Sami Bouajila, Tracy Gotoas, Samuel Jouy, Nabi...            NaN   \n",
       "3                                                NaN            NaN   \n",
       "4  Mayur More, Jitendra Kumar, Ranjan Raj, Alam K...          India   \n",
       "\n",
       "  date_added  release_year                                        description  \n",
       "0  25-Sep-21          2020  As her father nears the end of his life, filmm...  \n",
       "1  24-Sep-21          2021  After crossing paths at a party, a Cape Town t...  \n",
       "2  24-Sep-21          2021  To protect his family from a powerful drug lor...  \n",
       "3  24-Sep-21          2021  Feuds, flirtations and toilet talk go down amo...  \n",
       "4  24-Sep-21          2021  In a city of coaching centers known to train I...  "
      ]
     },
     "execution_count": 12,
     "metadata": {},
     "output_type": "execute_result"
    }
   ],
   "source": [
    "df = pd.read_csv('movies-1.csv')\n",
    "df.head()"
   ]
  },
  {
   "cell_type": "code",
   "execution_count": 14,
   "id": "9c8ec676",
   "metadata": {},
   "outputs": [
    {
     "data": {
      "text/html": [
       "<div>\n",
       "<style scoped>\n",
       "    .dataframe tbody tr th:only-of-type {\n",
       "        vertical-align: middle;\n",
       "    }\n",
       "\n",
       "    .dataframe tbody tr th {\n",
       "        vertical-align: top;\n",
       "    }\n",
       "\n",
       "    .dataframe thead th {\n",
       "        text-align: right;\n",
       "    }\n",
       "</style>\n",
       "<table border=\"1\" class=\"dataframe\">\n",
       "  <thead>\n",
       "    <tr style=\"text-align: right;\">\n",
       "      <th></th>\n",
       "      <th>show_id</th>\n",
       "      <th>rating</th>\n",
       "      <th>duration</th>\n",
       "      <th>listed_in</th>\n",
       "      <th>score</th>\n",
       "      <th>votes</th>\n",
       "      <th>popularity</th>\n",
       "    </tr>\n",
       "  </thead>\n",
       "  <tbody>\n",
       "    <tr>\n",
       "      <th>0</th>\n",
       "      <td>s1</td>\n",
       "      <td>PG-13</td>\n",
       "      <td>90 min</td>\n",
       "      <td>Documentaries</td>\n",
       "      <td>7.4</td>\n",
       "      <td>6636</td>\n",
       "      <td>7.2</td>\n",
       "    </tr>\n",
       "    <tr>\n",
       "      <th>1</th>\n",
       "      <td>s2</td>\n",
       "      <td>TV-MA</td>\n",
       "      <td>2 Seasons</td>\n",
       "      <td>International TV Shows, TV Dramas, TV Mysteries</td>\n",
       "      <td>6.6</td>\n",
       "      <td>3180</td>\n",
       "      <td>6.3</td>\n",
       "    </tr>\n",
       "    <tr>\n",
       "      <th>2</th>\n",
       "      <td>s3</td>\n",
       "      <td>TV-MA</td>\n",
       "      <td>1 Season</td>\n",
       "      <td>Crime TV Shows, International TV Shows, TV Act...</td>\n",
       "      <td>7.0</td>\n",
       "      <td>2640</td>\n",
       "      <td>6.9</td>\n",
       "    </tr>\n",
       "    <tr>\n",
       "      <th>3</th>\n",
       "      <td>s4</td>\n",
       "      <td>TV-MA</td>\n",
       "      <td>1 Season</td>\n",
       "      <td>Docuseries, Reality TV</td>\n",
       "      <td>6.7</td>\n",
       "      <td>229</td>\n",
       "      <td>7.0</td>\n",
       "    </tr>\n",
       "    <tr>\n",
       "      <th>4</th>\n",
       "      <td>s5</td>\n",
       "      <td>TV-MA</td>\n",
       "      <td>2 Seasons</td>\n",
       "      <td>International TV Shows, Romantic TV Shows, TV ...</td>\n",
       "      <td>9.1</td>\n",
       "      <td>71138</td>\n",
       "      <td>9.4</td>\n",
       "    </tr>\n",
       "  </tbody>\n",
       "</table>\n",
       "</div>"
      ],
      "text/plain": [
       "  show_id rating   duration  \\\n",
       "0      s1  PG-13     90 min   \n",
       "1      s2  TV-MA  2 Seasons   \n",
       "2      s3  TV-MA   1 Season   \n",
       "3      s4  TV-MA   1 Season   \n",
       "4      s5  TV-MA  2 Seasons   \n",
       "\n",
       "                                           listed_in  score  votes  popularity  \n",
       "0                                      Documentaries    7.4   6636         7.2  \n",
       "1    International TV Shows, TV Dramas, TV Mysteries    6.6   3180         6.3  \n",
       "2  Crime TV Shows, International TV Shows, TV Act...    7.0   2640         6.9  \n",
       "3                             Docuseries, Reality TV    6.7    229         7.0  \n",
       "4  International TV Shows, Romantic TV Shows, TV ...    9.1  71138         9.4  "
      ]
     },
     "execution_count": 14,
     "metadata": {},
     "output_type": "execute_result"
    }
   ],
   "source": [
    "df2 = pd.read_csv('movies-2.csv')\n",
    "df2.head()"
   ]
  },
  {
   "cell_type": "code",
   "execution_count": null,
   "id": "9e6ead80",
   "metadata": {},
   "outputs": [],
   "source": []
  },
  {
   "cell_type": "markdown",
   "id": "7faa000b",
   "metadata": {},
   "source": [
    "Q1. Join datasets to include all the columns in both datasets (Hint: Find the common column to merge these datasets) <br>\n",
    "Display few records after joining. **(no explanation needed)**"
   ]
  },
  {
   "cell_type": "code",
   "execution_count": 26,
   "id": "891ae221",
   "metadata": {},
   "outputs": [
    {
     "data": {
      "text/html": [
       "<div>\n",
       "<style scoped>\n",
       "    .dataframe tbody tr th:only-of-type {\n",
       "        vertical-align: middle;\n",
       "    }\n",
       "\n",
       "    .dataframe tbody tr th {\n",
       "        vertical-align: top;\n",
       "    }\n",
       "\n",
       "    .dataframe thead th {\n",
       "        text-align: right;\n",
       "    }\n",
       "</style>\n",
       "<table border=\"1\" class=\"dataframe\">\n",
       "  <thead>\n",
       "    <tr style=\"text-align: right;\">\n",
       "      <th></th>\n",
       "      <th>show_id</th>\n",
       "      <th>type</th>\n",
       "      <th>title</th>\n",
       "      <th>director</th>\n",
       "      <th>cast</th>\n",
       "      <th>country</th>\n",
       "      <th>date_added</th>\n",
       "      <th>release_year</th>\n",
       "      <th>description</th>\n",
       "      <th>rating</th>\n",
       "      <th>duration</th>\n",
       "      <th>listed_in</th>\n",
       "      <th>score</th>\n",
       "      <th>votes</th>\n",
       "      <th>popularity</th>\n",
       "    </tr>\n",
       "  </thead>\n",
       "  <tbody>\n",
       "    <tr>\n",
       "      <th>0</th>\n",
       "      <td>s1</td>\n",
       "      <td>Movie</td>\n",
       "      <td>Dick Johnson Is Dead</td>\n",
       "      <td>Kirsten Johnson</td>\n",
       "      <td>NaN</td>\n",
       "      <td>United States</td>\n",
       "      <td>25-Sep-21</td>\n",
       "      <td>2020</td>\n",
       "      <td>As her father nears the end of his life, filmm...</td>\n",
       "      <td>PG-13</td>\n",
       "      <td>90 min</td>\n",
       "      <td>Documentaries</td>\n",
       "      <td>7.4</td>\n",
       "      <td>6636</td>\n",
       "      <td>7.2</td>\n",
       "    </tr>\n",
       "    <tr>\n",
       "      <th>1</th>\n",
       "      <td>s2</td>\n",
       "      <td>TV Show</td>\n",
       "      <td>Blood &amp; Water</td>\n",
       "      <td>NaN</td>\n",
       "      <td>Ama Qamata, Khosi Ngema, Gail Mabalane, Thaban...</td>\n",
       "      <td>South Africa</td>\n",
       "      <td>24-Sep-21</td>\n",
       "      <td>2021</td>\n",
       "      <td>After crossing paths at a party, a Cape Town t...</td>\n",
       "      <td>TV-MA</td>\n",
       "      <td>2 Seasons</td>\n",
       "      <td>International TV Shows, TV Dramas, TV Mysteries</td>\n",
       "      <td>6.6</td>\n",
       "      <td>3180</td>\n",
       "      <td>6.3</td>\n",
       "    </tr>\n",
       "    <tr>\n",
       "      <th>2</th>\n",
       "      <td>s3</td>\n",
       "      <td>TV Show</td>\n",
       "      <td>Ganglands</td>\n",
       "      <td>Julien Leclercq</td>\n",
       "      <td>Sami Bouajila, Tracy Gotoas, Samuel Jouy, Nabi...</td>\n",
       "      <td>NaN</td>\n",
       "      <td>24-Sep-21</td>\n",
       "      <td>2021</td>\n",
       "      <td>To protect his family from a powerful drug lor...</td>\n",
       "      <td>TV-MA</td>\n",
       "      <td>1 Season</td>\n",
       "      <td>Crime TV Shows, International TV Shows, TV Act...</td>\n",
       "      <td>7.0</td>\n",
       "      <td>2640</td>\n",
       "      <td>6.9</td>\n",
       "    </tr>\n",
       "    <tr>\n",
       "      <th>3</th>\n",
       "      <td>s4</td>\n",
       "      <td>TV Show</td>\n",
       "      <td>Jailbirds New Orleans</td>\n",
       "      <td>NaN</td>\n",
       "      <td>NaN</td>\n",
       "      <td>NaN</td>\n",
       "      <td>24-Sep-21</td>\n",
       "      <td>2021</td>\n",
       "      <td>Feuds, flirtations and toilet talk go down amo...</td>\n",
       "      <td>TV-MA</td>\n",
       "      <td>1 Season</td>\n",
       "      <td>Docuseries, Reality TV</td>\n",
       "      <td>6.7</td>\n",
       "      <td>229</td>\n",
       "      <td>7.0</td>\n",
       "    </tr>\n",
       "    <tr>\n",
       "      <th>4</th>\n",
       "      <td>s5</td>\n",
       "      <td>TV Show</td>\n",
       "      <td>Kota Factory</td>\n",
       "      <td>NaN</td>\n",
       "      <td>Mayur More, Jitendra Kumar, Ranjan Raj, Alam K...</td>\n",
       "      <td>India</td>\n",
       "      <td>24-Sep-21</td>\n",
       "      <td>2021</td>\n",
       "      <td>In a city of coaching centers known to train I...</td>\n",
       "      <td>TV-MA</td>\n",
       "      <td>2 Seasons</td>\n",
       "      <td>International TV Shows, Romantic TV Shows, TV ...</td>\n",
       "      <td>9.1</td>\n",
       "      <td>71138</td>\n",
       "      <td>9.4</td>\n",
       "    </tr>\n",
       "  </tbody>\n",
       "</table>\n",
       "</div>"
      ],
      "text/plain": [
       "  show_id     type                  title         director  \\\n",
       "0      s1    Movie   Dick Johnson Is Dead  Kirsten Johnson   \n",
       "1      s2  TV Show          Blood & Water              NaN   \n",
       "2      s3  TV Show              Ganglands  Julien Leclercq   \n",
       "3      s4  TV Show  Jailbirds New Orleans              NaN   \n",
       "4      s5  TV Show           Kota Factory              NaN   \n",
       "\n",
       "                                                cast        country  \\\n",
       "0                                                NaN  United States   \n",
       "1  Ama Qamata, Khosi Ngema, Gail Mabalane, Thaban...   South Africa   \n",
       "2  Sami Bouajila, Tracy Gotoas, Samuel Jouy, Nabi...            NaN   \n",
       "3                                                NaN            NaN   \n",
       "4  Mayur More, Jitendra Kumar, Ranjan Raj, Alam K...          India   \n",
       "\n",
       "  date_added  release_year                                        description  \\\n",
       "0  25-Sep-21          2020  As her father nears the end of his life, filmm...   \n",
       "1  24-Sep-21          2021  After crossing paths at a party, a Cape Town t...   \n",
       "2  24-Sep-21          2021  To protect his family from a powerful drug lor...   \n",
       "3  24-Sep-21          2021  Feuds, flirtations and toilet talk go down amo...   \n",
       "4  24-Sep-21          2021  In a city of coaching centers known to train I...   \n",
       "\n",
       "  rating   duration                                          listed_in  score  \\\n",
       "0  PG-13     90 min                                      Documentaries    7.4   \n",
       "1  TV-MA  2 Seasons    International TV Shows, TV Dramas, TV Mysteries    6.6   \n",
       "2  TV-MA   1 Season  Crime TV Shows, International TV Shows, TV Act...    7.0   \n",
       "3  TV-MA   1 Season                             Docuseries, Reality TV    6.7   \n",
       "4  TV-MA  2 Seasons  International TV Shows, Romantic TV Shows, TV ...    9.1   \n",
       "\n",
       "   votes  popularity  \n",
       "0   6636         7.2  \n",
       "1   3180         6.3  \n",
       "2   2640         6.9  \n",
       "3    229         7.0  \n",
       "4  71138         9.4  "
      ]
     },
     "execution_count": 26,
     "metadata": {},
     "output_type": "execute_result"
    }
   ],
   "source": [
    "join_data = pd.merge(df,df2,on='show_id')\n",
    "join_data.head()"
   ]
  },
  {
   "cell_type": "code",
   "execution_count": null,
   "id": "c432c59c",
   "metadata": {},
   "outputs": [],
   "source": []
  },
  {
   "cell_type": "code",
   "execution_count": null,
   "id": "119b2ed9",
   "metadata": {},
   "outputs": [],
   "source": []
  },
  {
   "cell_type": "markdown",
   "id": "6fdf0e9f",
   "metadata": {},
   "source": [
    "Q2. Display the number of rows/columns and data types of each column **(no explanation needed)**"
   ]
  },
  {
   "cell_type": "code",
   "execution_count": 31,
   "id": "1ca1d081",
   "metadata": {},
   "outputs": [
    {
     "data": {
      "text/plain": [
       "show_id          object\n",
       "type             object\n",
       "title            object\n",
       "director         object\n",
       "cast             object\n",
       "country          object\n",
       "date_added       object\n",
       "release_year      int64\n",
       "description      object\n",
       "rating           object\n",
       "duration         object\n",
       "listed_in        object\n",
       "score           float64\n",
       "votes             int64\n",
       "popularity      float64\n",
       "dtype: object"
      ]
     },
     "execution_count": 31,
     "metadata": {},
     "output_type": "execute_result"
    }
   ],
   "source": [
    "join_data.dtypes"
   ]
  },
  {
   "cell_type": "code",
   "execution_count": 35,
   "id": "24a5f299",
   "metadata": {},
   "outputs": [
    {
     "data": {
      "text/plain": [
       "(8810, 15)"
      ]
     },
     "execution_count": 35,
     "metadata": {},
     "output_type": "execute_result"
    }
   ],
   "source": [
    "join_data.shape"
   ]
  },
  {
   "cell_type": "code",
   "execution_count": null,
   "id": "b5c67bd5",
   "metadata": {},
   "outputs": [],
   "source": []
  },
  {
   "cell_type": "markdown",
   "id": "06c8eaaa",
   "metadata": {},
   "source": [
    "Q3. Find and display if there are duplicates in the dataset. If yes, then in the next step, remove the duplicates and display the number of rows/columns again. **(no explanation needed)**"
   ]
  },
  {
   "cell_type": "code",
   "execution_count": 38,
   "id": "a750f9fe",
   "metadata": {},
   "outputs": [
    {
     "data": {
      "text/plain": [
       "0       False\n",
       "1       False\n",
       "2       False\n",
       "3       False\n",
       "4       False\n",
       "        ...  \n",
       "8805    False\n",
       "8806    False\n",
       "8807     True\n",
       "8808     True\n",
       "8809     True\n",
       "Length: 8810, dtype: bool"
      ]
     },
     "execution_count": 38,
     "metadata": {},
     "output_type": "execute_result"
    }
   ],
   "source": [
    "join_data.duplicated()"
   ]
  },
  {
   "cell_type": "code",
   "execution_count": 56,
   "id": "14430982",
   "metadata": {},
   "outputs": [],
   "source": [
    "join_data = join_data.drop_duplicates()"
   ]
  },
  {
   "cell_type": "code",
   "execution_count": 58,
   "id": "02624e37",
   "metadata": {},
   "outputs": [
    {
     "name": "stdout",
     "output_type": "stream",
     "text": [
      "Rows: 8807, Columns: 15\n"
     ]
    }
   ],
   "source": [
    "rows, columns = join_data.shape\n",
    "print(f\"Rows: {rows}, Columns: {columns}\")"
   ]
  },
  {
   "cell_type": "markdown",
   "id": "e61bb12a",
   "metadata": {},
   "source": [
    "Q4. Find all the columns with missing values by displaying the total number of missing records for each column.**(no explanation needed)**"
   ]
  },
  {
   "cell_type": "code",
   "execution_count": 61,
   "id": "6dc7b68e",
   "metadata": {},
   "outputs": [
    {
     "data": {
      "text/plain": [
       "show_id            0\n",
       "type               0\n",
       "title              0\n",
       "director        2634\n",
       "cast             825\n",
       "country          831\n",
       "date_added        10\n",
       "release_year       0\n",
       "description        0\n",
       "rating             4\n",
       "duration           3\n",
       "listed_in          0\n",
       "score              0\n",
       "votes              0\n",
       "popularity         0\n",
       "dtype: int64"
      ]
     },
     "execution_count": 61,
     "metadata": {},
     "output_type": "execute_result"
    }
   ],
   "source": [
    "missing_values = join_data.isnull().sum()\n",
    "missing_values"
   ]
  },
  {
   "cell_type": "code",
   "execution_count": null,
   "id": "ef5c9742",
   "metadata": {},
   "outputs": [],
   "source": []
  },
  {
   "cell_type": "code",
   "execution_count": null,
   "id": "89cdc9d4",
   "metadata": {},
   "outputs": [],
   "source": []
  },
  {
   "cell_type": "markdown",
   "id": "83b1e685",
   "metadata": {},
   "source": [
    "Q5. If there are missing values in any column, replace it with value \"Unknown\" (except duration column). <br>\n",
    "Replace \"duration\" column missing values with \"0 mins\". <br>\n",
    "Display the total number of missing values again to show that there are no missing values exist. **(no explanation needed)**"
   ]
  },
  {
   "cell_type": "code",
   "execution_count": 63,
   "id": "912ce656",
   "metadata": {},
   "outputs": [
    {
     "name": "stdout",
     "output_type": "stream",
     "text": [
      "show_id         0\n",
      "type            0\n",
      "title           0\n",
      "director        0\n",
      "cast            0\n",
      "country         0\n",
      "date_added      0\n",
      "release_year    0\n",
      "description     0\n",
      "rating          0\n",
      "duration        0\n",
      "listed_in       0\n",
      "score           0\n",
      "votes           0\n",
      "popularity      0\n",
      "dtype: int64\n"
     ]
    }
   ],
   "source": [
    "join_data.fillna(value={'duration': '0 mins'}, inplace=True)\n",
    "join_data.fillna('Unknown', inplace=True)\n",
    "\n",
    "# Display total number of missing values in the dataframe\n",
    "missing_values_count = join_data.isnull().sum()\n",
    "print(missing_values_count)"
   ]
  },
  {
   "cell_type": "code",
   "execution_count": null,
   "id": "06ed050b",
   "metadata": {},
   "outputs": [],
   "source": []
  },
  {
   "cell_type": "code",
   "execution_count": null,
   "id": "c03d545c",
   "metadata": {},
   "outputs": [],
   "source": []
  },
  {
   "cell_type": "markdown",
   "id": "a532f704",
   "metadata": {},
   "source": [
    "Q6. Count the number of records for each rating. Do you see any issues in rating values? **Please discuss/explain your findings**"
   ]
  },
  {
   "cell_type": "code",
   "execution_count": 65,
   "id": "19cde022",
   "metadata": {},
   "outputs": [],
   "source": [
    "rating_counts = join_data['rating'].value_counts()"
   ]
  },
  {
   "cell_type": "code",
   "execution_count": 67,
   "id": "4420a01c",
   "metadata": {},
   "outputs": [
    {
     "data": {
      "text/plain": [
       "rating\n",
       "TV-MA       3207\n",
       "TV-14       2160\n",
       "TV-PG        863\n",
       "R            799\n",
       "PG-13        490\n",
       "TV-Y7        334\n",
       "TV-Y         307\n",
       "PG           287\n",
       "TV-G         220\n",
       "NR            80\n",
       "G             41\n",
       "TV-Y7-FV       6\n",
       "Unknown        4\n",
       "NC-17          3\n",
       "UR             3\n",
       "74 min         1\n",
       "84 min         1\n",
       "66 min         1\n",
       "Name: count, dtype: int64"
      ]
     },
     "execution_count": 67,
     "metadata": {},
     "output_type": "execute_result"
    }
   ],
   "source": [
    "rating_counts"
   ]
  },
  {
   "cell_type": "code",
   "execution_count": null,
   "id": "e65a6d04",
   "metadata": {},
   "outputs": [],
   "source": [
    "## The above tells us that TV-MA has the highest rating which is 3207. "
   ]
  },
  {
   "cell_type": "markdown",
   "id": "735112b5",
   "metadata": {},
   "source": [
    "Q7. Find the percentage of records released in 2018. (Hint: use column **release_year**) **(no explanation needed)**"
   ]
  },
  {
   "cell_type": "code",
   "execution_count": 70,
   "id": "b624fa55",
   "metadata": {},
   "outputs": [
    {
     "name": "stdout",
     "output_type": "stream",
     "text": [
      "13.023731122970364\n"
     ]
    }
   ],
   "source": [
    "total_records = len(join_data)\n",
    "records_2018 = len(join_data[join_data['release_year'] == 2018])\n",
    "percentage_2018 = (records_2018 / total_records) * 100\n",
    "\n",
    "print(percentage_2018)"
   ]
  },
  {
   "cell_type": "code",
   "execution_count": null,
   "id": "c8856821",
   "metadata": {},
   "outputs": [],
   "source": []
  },
  {
   "cell_type": "code",
   "execution_count": null,
   "id": "24304bad",
   "metadata": {},
   "outputs": [],
   "source": []
  },
  {
   "cell_type": "markdown",
   "id": "ee6cf83c",
   "metadata": {},
   "source": [
    "Q8. Split the **\"duration\"** column and create two new columns **\"minutes\"** and **\"unit\"** based on the duration value. Display few results. **(no explanation needed)**"
   ]
  },
  {
   "cell_type": "code",
   "execution_count": 80,
   "id": "d6917529",
   "metadata": {},
   "outputs": [
    {
     "name": "stdout",
     "output_type": "stream",
     "text": [
      "    duration minutes     unit\n",
      "0     90 min      90      min\n",
      "1  2 Seasons       2  Seasons\n",
      "2   1 Season       1   Season\n",
      "3   1 Season       1   Season\n",
      "4  2 Seasons       2  Seasons\n"
     ]
    }
   ],
   "source": [
    "join_data[['minutes', 'unit']] = join_data['duration'].str.split(' ', n=1, expand=True)\n",
    "\n",
    "# Display the first few results\n",
    "print(join_data[['duration', 'minutes', 'unit']].head())"
   ]
  },
  {
   "cell_type": "code",
   "execution_count": 82,
   "id": "e680150c",
   "metadata": {},
   "outputs": [
    {
     "data": {
      "text/html": [
       "<div>\n",
       "<style scoped>\n",
       "    .dataframe tbody tr th:only-of-type {\n",
       "        vertical-align: middle;\n",
       "    }\n",
       "\n",
       "    .dataframe tbody tr th {\n",
       "        vertical-align: top;\n",
       "    }\n",
       "\n",
       "    .dataframe thead th {\n",
       "        text-align: right;\n",
       "    }\n",
       "</style>\n",
       "<table border=\"1\" class=\"dataframe\">\n",
       "  <thead>\n",
       "    <tr style=\"text-align: right;\">\n",
       "      <th></th>\n",
       "      <th>show_id</th>\n",
       "      <th>type</th>\n",
       "      <th>title</th>\n",
       "      <th>director</th>\n",
       "      <th>cast</th>\n",
       "      <th>country</th>\n",
       "      <th>date_added</th>\n",
       "      <th>release_year</th>\n",
       "      <th>description</th>\n",
       "      <th>rating</th>\n",
       "      <th>duration</th>\n",
       "      <th>listed_in</th>\n",
       "      <th>score</th>\n",
       "      <th>votes</th>\n",
       "      <th>popularity</th>\n",
       "      <th>minutes</th>\n",
       "      <th>unit</th>\n",
       "    </tr>\n",
       "  </thead>\n",
       "  <tbody>\n",
       "    <tr>\n",
       "      <th>0</th>\n",
       "      <td>s1</td>\n",
       "      <td>Movie</td>\n",
       "      <td>Dick Johnson Is Dead</td>\n",
       "      <td>Kirsten Johnson</td>\n",
       "      <td>Unknown</td>\n",
       "      <td>United States</td>\n",
       "      <td>25-Sep-21</td>\n",
       "      <td>2020</td>\n",
       "      <td>As her father nears the end of his life, filmm...</td>\n",
       "      <td>PG-13</td>\n",
       "      <td>90 min</td>\n",
       "      <td>Documentaries</td>\n",
       "      <td>7.4</td>\n",
       "      <td>6636</td>\n",
       "      <td>7.2</td>\n",
       "      <td>90</td>\n",
       "      <td>min</td>\n",
       "    </tr>\n",
       "    <tr>\n",
       "      <th>1</th>\n",
       "      <td>s2</td>\n",
       "      <td>TV Show</td>\n",
       "      <td>Blood &amp; Water</td>\n",
       "      <td>Unknown</td>\n",
       "      <td>Ama Qamata, Khosi Ngema, Gail Mabalane, Thaban...</td>\n",
       "      <td>South Africa</td>\n",
       "      <td>24-Sep-21</td>\n",
       "      <td>2021</td>\n",
       "      <td>After crossing paths at a party, a Cape Town t...</td>\n",
       "      <td>TV-MA</td>\n",
       "      <td>2 Seasons</td>\n",
       "      <td>International TV Shows, TV Dramas, TV Mysteries</td>\n",
       "      <td>6.6</td>\n",
       "      <td>3180</td>\n",
       "      <td>6.3</td>\n",
       "      <td>2</td>\n",
       "      <td>Seasons</td>\n",
       "    </tr>\n",
       "    <tr>\n",
       "      <th>2</th>\n",
       "      <td>s3</td>\n",
       "      <td>TV Show</td>\n",
       "      <td>Ganglands</td>\n",
       "      <td>Julien Leclercq</td>\n",
       "      <td>Sami Bouajila, Tracy Gotoas, Samuel Jouy, Nabi...</td>\n",
       "      <td>Unknown</td>\n",
       "      <td>24-Sep-21</td>\n",
       "      <td>2021</td>\n",
       "      <td>To protect his family from a powerful drug lor...</td>\n",
       "      <td>TV-MA</td>\n",
       "      <td>1 Season</td>\n",
       "      <td>Crime TV Shows, International TV Shows, TV Act...</td>\n",
       "      <td>7.0</td>\n",
       "      <td>2640</td>\n",
       "      <td>6.9</td>\n",
       "      <td>1</td>\n",
       "      <td>Season</td>\n",
       "    </tr>\n",
       "    <tr>\n",
       "      <th>3</th>\n",
       "      <td>s4</td>\n",
       "      <td>TV Show</td>\n",
       "      <td>Jailbirds New Orleans</td>\n",
       "      <td>Unknown</td>\n",
       "      <td>Unknown</td>\n",
       "      <td>Unknown</td>\n",
       "      <td>24-Sep-21</td>\n",
       "      <td>2021</td>\n",
       "      <td>Feuds, flirtations and toilet talk go down amo...</td>\n",
       "      <td>TV-MA</td>\n",
       "      <td>1 Season</td>\n",
       "      <td>Docuseries, Reality TV</td>\n",
       "      <td>6.7</td>\n",
       "      <td>229</td>\n",
       "      <td>7.0</td>\n",
       "      <td>1</td>\n",
       "      <td>Season</td>\n",
       "    </tr>\n",
       "    <tr>\n",
       "      <th>4</th>\n",
       "      <td>s5</td>\n",
       "      <td>TV Show</td>\n",
       "      <td>Kota Factory</td>\n",
       "      <td>Unknown</td>\n",
       "      <td>Mayur More, Jitendra Kumar, Ranjan Raj, Alam K...</td>\n",
       "      <td>India</td>\n",
       "      <td>24-Sep-21</td>\n",
       "      <td>2021</td>\n",
       "      <td>In a city of coaching centers known to train I...</td>\n",
       "      <td>TV-MA</td>\n",
       "      <td>2 Seasons</td>\n",
       "      <td>International TV Shows, Romantic TV Shows, TV ...</td>\n",
       "      <td>9.1</td>\n",
       "      <td>71138</td>\n",
       "      <td>9.4</td>\n",
       "      <td>2</td>\n",
       "      <td>Seasons</td>\n",
       "    </tr>\n",
       "  </tbody>\n",
       "</table>\n",
       "</div>"
      ],
      "text/plain": [
       "  show_id     type                  title         director  \\\n",
       "0      s1    Movie   Dick Johnson Is Dead  Kirsten Johnson   \n",
       "1      s2  TV Show          Blood & Water          Unknown   \n",
       "2      s3  TV Show              Ganglands  Julien Leclercq   \n",
       "3      s4  TV Show  Jailbirds New Orleans          Unknown   \n",
       "4      s5  TV Show           Kota Factory          Unknown   \n",
       "\n",
       "                                                cast        country  \\\n",
       "0                                            Unknown  United States   \n",
       "1  Ama Qamata, Khosi Ngema, Gail Mabalane, Thaban...   South Africa   \n",
       "2  Sami Bouajila, Tracy Gotoas, Samuel Jouy, Nabi...        Unknown   \n",
       "3                                            Unknown        Unknown   \n",
       "4  Mayur More, Jitendra Kumar, Ranjan Raj, Alam K...          India   \n",
       "\n",
       "  date_added  release_year                                        description  \\\n",
       "0  25-Sep-21          2020  As her father nears the end of his life, filmm...   \n",
       "1  24-Sep-21          2021  After crossing paths at a party, a Cape Town t...   \n",
       "2  24-Sep-21          2021  To protect his family from a powerful drug lor...   \n",
       "3  24-Sep-21          2021  Feuds, flirtations and toilet talk go down amo...   \n",
       "4  24-Sep-21          2021  In a city of coaching centers known to train I...   \n",
       "\n",
       "  rating   duration                                          listed_in  score  \\\n",
       "0  PG-13     90 min                                      Documentaries    7.4   \n",
       "1  TV-MA  2 Seasons    International TV Shows, TV Dramas, TV Mysteries    6.6   \n",
       "2  TV-MA   1 Season  Crime TV Shows, International TV Shows, TV Act...    7.0   \n",
       "3  TV-MA   1 Season                             Docuseries, Reality TV    6.7   \n",
       "4  TV-MA  2 Seasons  International TV Shows, Romantic TV Shows, TV ...    9.1   \n",
       "\n",
       "   votes  popularity minutes     unit  \n",
       "0   6636         7.2      90      min  \n",
       "1   3180         6.3       2  Seasons  \n",
       "2   2640         6.9       1   Season  \n",
       "3    229         7.0       1   Season  \n",
       "4  71138         9.4       2  Seasons  "
      ]
     },
     "execution_count": 82,
     "metadata": {},
     "output_type": "execute_result"
    }
   ],
   "source": [
    "join_data.head()"
   ]
  },
  {
   "cell_type": "code",
   "execution_count": null,
   "id": "61b8bfa7",
   "metadata": {},
   "outputs": [],
   "source": []
  },
  {
   "cell_type": "markdown",
   "id": "bf6d5573",
   "metadata": {},
   "source": [
    "Q9. Find the maximum duration in column **\"minutes\"** (Hint: check for the data type for column \"minute\" column and convert accordingly). **(no explanation needed)**"
   ]
  },
  {
   "cell_type": "code",
   "execution_count": 84,
   "id": "c8dc0b9b",
   "metadata": {},
   "outputs": [
    {
     "name": "stdout",
     "output_type": "stream",
     "text": [
      "312\n"
     ]
    }
   ],
   "source": [
    "join_data['minutes'] = pd.to_numeric(join_data['minutes'], errors='coerce')\n",
    "\n",
    "max_duration = join_data['minutes'].max()\n",
    "\n",
    "print(max_duration)"
   ]
  },
  {
   "cell_type": "code",
   "execution_count": null,
   "id": "3b663fa8",
   "metadata": {},
   "outputs": [],
   "source": []
  },
  {
   "cell_type": "code",
   "execution_count": null,
   "id": "efcf94b2",
   "metadata": {},
   "outputs": [],
   "source": []
  },
  {
   "cell_type": "markdown",
   "id": "ec3f2548",
   "metadata": {},
   "source": [
    "Q10. Find all the records which have minutes greater than 200. Display the records and report the total number of records. **(no explanation needed)**"
   ]
  },
  {
   "cell_type": "code",
   "execution_count": 88,
   "id": "87585466",
   "metadata": {},
   "outputs": [
    {
     "data": {
      "text/html": [
       "<div>\n",
       "<style scoped>\n",
       "    .dataframe tbody tr th:only-of-type {\n",
       "        vertical-align: middle;\n",
       "    }\n",
       "\n",
       "    .dataframe tbody tr th {\n",
       "        vertical-align: top;\n",
       "    }\n",
       "\n",
       "    .dataframe thead th {\n",
       "        text-align: right;\n",
       "    }\n",
       "</style>\n",
       "<table border=\"1\" class=\"dataframe\">\n",
       "  <thead>\n",
       "    <tr style=\"text-align: right;\">\n",
       "      <th></th>\n",
       "      <th>show_id</th>\n",
       "      <th>type</th>\n",
       "      <th>title</th>\n",
       "      <th>director</th>\n",
       "      <th>cast</th>\n",
       "      <th>country</th>\n",
       "      <th>date_added</th>\n",
       "      <th>release_year</th>\n",
       "      <th>description</th>\n",
       "      <th>rating</th>\n",
       "      <th>duration</th>\n",
       "      <th>listed_in</th>\n",
       "      <th>score</th>\n",
       "      <th>votes</th>\n",
       "      <th>popularity</th>\n",
       "      <th>minutes</th>\n",
       "      <th>unit</th>\n",
       "    </tr>\n",
       "  </thead>\n",
       "  <tbody>\n",
       "    <tr>\n",
       "      <th>166</th>\n",
       "      <td>s167</td>\n",
       "      <td>Movie</td>\n",
       "      <td>Once Upon a Time in America</td>\n",
       "      <td>Sergio Leone</td>\n",
       "      <td>Robert De Niro, James Woods, Elizabeth McGover...</td>\n",
       "      <td>Italy, United States</td>\n",
       "      <td>1-Sep-21</td>\n",
       "      <td>1984</td>\n",
       "      <td>Director Sergio Leone's sprawling crime epic f...</td>\n",
       "      <td>R</td>\n",
       "      <td>229 min</td>\n",
       "      <td>Classic Movies, Dramas</td>\n",
       "      <td>4.2</td>\n",
       "      <td>22120</td>\n",
       "      <td>4.4</td>\n",
       "      <td>229</td>\n",
       "      <td>min</td>\n",
       "    </tr>\n",
       "    <tr>\n",
       "      <th>717</th>\n",
       "      <td>s718</td>\n",
       "      <td>Movie</td>\n",
       "      <td>Headspace: Unwind Your Mind</td>\n",
       "      <td>Unknown</td>\n",
       "      <td>Andy Puddicombe, Evelyn Lewis Prieto, Ginger D...</td>\n",
       "      <td>Unknown</td>\n",
       "      <td>15-Jun-21</td>\n",
       "      <td>2021</td>\n",
       "      <td>Do you want to relax, meditate or sleep deeply...</td>\n",
       "      <td>TV-G</td>\n",
       "      <td>273 min</td>\n",
       "      <td>Documentaries</td>\n",
       "      <td>7.1</td>\n",
       "      <td>155</td>\n",
       "      <td>7.3</td>\n",
       "      <td>273</td>\n",
       "      <td>min</td>\n",
       "    </tr>\n",
       "    <tr>\n",
       "      <th>806</th>\n",
       "      <td>s807</td>\n",
       "      <td>Movie</td>\n",
       "      <td>Seven Souls in the Skull Castle: Season Moon J...</td>\n",
       "      <td>Hidenori Inoue</td>\n",
       "      <td>Sota Fukushi, Taichi Saotome, Shohei Miura, Ke...</td>\n",
       "      <td>Unknown</td>\n",
       "      <td>2-Jun-21</td>\n",
       "      <td>2017</td>\n",
       "      <td>Japan, 1590. Wandering samurai band together t...</td>\n",
       "      <td>TV-14</td>\n",
       "      <td>204 min</td>\n",
       "      <td>Action &amp; Adventure, Dramas, International Movies</td>\n",
       "      <td>6.1</td>\n",
       "      <td>22579</td>\n",
       "      <td>5.9</td>\n",
       "      <td>204</td>\n",
       "      <td>min</td>\n",
       "    </tr>\n",
       "    <tr>\n",
       "      <th>807</th>\n",
       "      <td>s808</td>\n",
       "      <td>Movie</td>\n",
       "      <td>Seven Souls in the Skull Castle: Season Moon K...</td>\n",
       "      <td>Hidenori Inoue</td>\n",
       "      <td>Mamoru Miyano, Hiroki Suzuki, Tomoki Hirose, R...</td>\n",
       "      <td>Unknown</td>\n",
       "      <td>2-Jun-21</td>\n",
       "      <td>2017</td>\n",
       "      <td>Japan, 1590. Wandering samurai band together t...</td>\n",
       "      <td>TV-PG</td>\n",
       "      <td>212 min</td>\n",
       "      <td>Action &amp; Adventure, Dramas, International Movies</td>\n",
       "      <td>6.8</td>\n",
       "      <td>13945</td>\n",
       "      <td>6.9</td>\n",
       "      <td>212</td>\n",
       "      <td>min</td>\n",
       "    </tr>\n",
       "    <tr>\n",
       "      <th>1019</th>\n",
       "      <td>s1020</td>\n",
       "      <td>Movie</td>\n",
       "      <td>Lagaan</td>\n",
       "      <td>Ashutosh Gowariker</td>\n",
       "      <td>Aamir Khan, Gracy Singh, Rachel Shelley, Paul ...</td>\n",
       "      <td>India, United Kingdom</td>\n",
       "      <td>17-Apr-21</td>\n",
       "      <td>2001</td>\n",
       "      <td>In 1890s India, an arrogant British commander ...</td>\n",
       "      <td>PG</td>\n",
       "      <td>224 min</td>\n",
       "      <td>Dramas, International Movies, Music &amp; Musicals</td>\n",
       "      <td>6.7</td>\n",
       "      <td>14523</td>\n",
       "      <td>6.9</td>\n",
       "      <td>224</td>\n",
       "      <td>min</td>\n",
       "    </tr>\n",
       "    <tr>\n",
       "      <th>2126</th>\n",
       "      <td>s2127</td>\n",
       "      <td>Movie</td>\n",
       "      <td>What's Your Raashee?</td>\n",
       "      <td>Ashutosh Gowariker</td>\n",
       "      <td>Harman Baweja, Priyanka Chopra, Manju Singh, A...</td>\n",
       "      <td>India</td>\n",
       "      <td>15-Aug-20</td>\n",
       "      <td>2009</td>\n",
       "      <td>To protect his family from ruin, Yogesh must m...</td>\n",
       "      <td>TV-PG</td>\n",
       "      <td>203 min</td>\n",
       "      <td>Comedies, International Movies, Music &amp; Musicals</td>\n",
       "      <td>6.0</td>\n",
       "      <td>13553</td>\n",
       "      <td>6.4</td>\n",
       "      <td>203</td>\n",
       "      <td>min</td>\n",
       "    </tr>\n",
       "    <tr>\n",
       "      <th>2483</th>\n",
       "      <td>s2484</td>\n",
       "      <td>Movie</td>\n",
       "      <td>Fifty Year Old Teenager</td>\n",
       "      <td>Fouad Al Shatti</td>\n",
       "      <td>Abdulhussain Abdulredah, Haifaa Adel, Dawood H...</td>\n",
       "      <td>Unknown</td>\n",
       "      <td>21-May-20</td>\n",
       "      <td>1996</td>\n",
       "      <td>The life of a married 50-year-old doctor turns...</td>\n",
       "      <td>TV-14</td>\n",
       "      <td>204 min</td>\n",
       "      <td>Comedies, International Movies</td>\n",
       "      <td>6.1</td>\n",
       "      <td>7778</td>\n",
       "      <td>6.4</td>\n",
       "      <td>204</td>\n",
       "      <td>min</td>\n",
       "    </tr>\n",
       "    <tr>\n",
       "      <th>2484</th>\n",
       "      <td>s2485</td>\n",
       "      <td>Movie</td>\n",
       "      <td>Lock Your Girls In</td>\n",
       "      <td>Fouad El-Mohandes</td>\n",
       "      <td>Fouad El-Mohandes, Sanaa Younes, Sherihan, Ahm...</td>\n",
       "      <td>Unknown</td>\n",
       "      <td>21-May-20</td>\n",
       "      <td>1982</td>\n",
       "      <td>A widower believes he must marry off his three...</td>\n",
       "      <td>TV-PG</td>\n",
       "      <td>233 min</td>\n",
       "      <td>Comedies, International Movies, Romantic Movies</td>\n",
       "      <td>6.2</td>\n",
       "      <td>24102</td>\n",
       "      <td>6.4</td>\n",
       "      <td>233</td>\n",
       "      <td>min</td>\n",
       "    </tr>\n",
       "    <tr>\n",
       "      <th>2487</th>\n",
       "      <td>s2488</td>\n",
       "      <td>Movie</td>\n",
       "      <td>No Longer kids</td>\n",
       "      <td>Samir Al Asfory</td>\n",
       "      <td>Said Saleh, Hassan Moustafa, Ahmed Zaki, Youne...</td>\n",
       "      <td>Egypt</td>\n",
       "      <td>21-May-20</td>\n",
       "      <td>1979</td>\n",
       "      <td>Hoping to prevent their father from skipping t...</td>\n",
       "      <td>TV-14</td>\n",
       "      <td>237 min</td>\n",
       "      <td>Comedies, Dramas, International Movies</td>\n",
       "      <td>6.8</td>\n",
       "      <td>15348</td>\n",
       "      <td>6.3</td>\n",
       "      <td>237</td>\n",
       "      <td>min</td>\n",
       "    </tr>\n",
       "    <tr>\n",
       "      <th>2488</th>\n",
       "      <td>s2489</td>\n",
       "      <td>Movie</td>\n",
       "      <td>Raya and Sakina</td>\n",
       "      <td>Hussein Kamal</td>\n",
       "      <td>Suhair El-Babili, Shadia, Abdel Moneim Madboul...</td>\n",
       "      <td>Unknown</td>\n",
       "      <td>21-May-20</td>\n",
       "      <td>1984</td>\n",
       "      <td>When robberies and murders targeting women swe...</td>\n",
       "      <td>TV-14</td>\n",
       "      <td>230 min</td>\n",
       "      <td>Comedies, Dramas, International Movies</td>\n",
       "      <td>5.6</td>\n",
       "      <td>23130</td>\n",
       "      <td>5.6</td>\n",
       "      <td>230</td>\n",
       "      <td>min</td>\n",
       "    </tr>\n",
       "    <tr>\n",
       "      <th>2491</th>\n",
       "      <td>s2492</td>\n",
       "      <td>Movie</td>\n",
       "      <td>The School of Mischief</td>\n",
       "      <td>Houssam El-Din Mustafa</td>\n",
       "      <td>Suhair El-Babili, Adel Emam, Saeed Saleh, Youn...</td>\n",
       "      <td>Egypt</td>\n",
       "      <td>21-May-20</td>\n",
       "      <td>1973</td>\n",
       "      <td>A high school teacher volunteers to transform ...</td>\n",
       "      <td>TV-14</td>\n",
       "      <td>253 min</td>\n",
       "      <td>Comedies, Dramas, International Movies</td>\n",
       "      <td>6.2</td>\n",
       "      <td>362</td>\n",
       "      <td>6.2</td>\n",
       "      <td>253</td>\n",
       "      <td>min</td>\n",
       "    </tr>\n",
       "    <tr>\n",
       "      <th>2632</th>\n",
       "      <td>s2633</td>\n",
       "      <td>Movie</td>\n",
       "      <td>No Direction Home: Bob Dylan</td>\n",
       "      <td>Martin Scorsese</td>\n",
       "      <td>Bob Dylan, Joan Baez, Dave Van Ronk, Peter Yar...</td>\n",
       "      <td>United Kingdom, United States, Japan</td>\n",
       "      <td>25-Apr-20</td>\n",
       "      <td>2005</td>\n",
       "      <td>Featuring rare concert footage and interviews ...</td>\n",
       "      <td>TV-MA</td>\n",
       "      <td>208 min</td>\n",
       "      <td>Documentaries, Music &amp; Musicals</td>\n",
       "      <td>6.8</td>\n",
       "      <td>7919</td>\n",
       "      <td>6.5</td>\n",
       "      <td>208</td>\n",
       "      <td>min</td>\n",
       "    </tr>\n",
       "    <tr>\n",
       "      <th>2731</th>\n",
       "      <td>s2732</td>\n",
       "      <td>Movie</td>\n",
       "      <td>Kabhi Khushi Kabhie Gham</td>\n",
       "      <td>Karan Johar</td>\n",
       "      <td>Amitabh Bachchan, Jaya Bhaduri, Shah Rukh Khan...</td>\n",
       "      <td>India</td>\n",
       "      <td>1-Apr-20</td>\n",
       "      <td>2001</td>\n",
       "      <td>Years after his father disowns his adopted bro...</td>\n",
       "      <td>TV-14</td>\n",
       "      <td>209 min</td>\n",
       "      <td>Dramas, International Movies</td>\n",
       "      <td>5.4</td>\n",
       "      <td>2569</td>\n",
       "      <td>5.0</td>\n",
       "      <td>209</td>\n",
       "      <td>min</td>\n",
       "    </tr>\n",
       "    <tr>\n",
       "      <th>3227</th>\n",
       "      <td>s3228</td>\n",
       "      <td>Movie</td>\n",
       "      <td>The Irishman</td>\n",
       "      <td>Martin Scorsese</td>\n",
       "      <td>Robert De Niro, Al Pacino, Joe Pesci, Harvey K...</td>\n",
       "      <td>United States</td>\n",
       "      <td>27-Nov-19</td>\n",
       "      <td>2019</td>\n",
       "      <td>Hit man Frank Sheeran looks back at the secret...</td>\n",
       "      <td>R</td>\n",
       "      <td>209 min</td>\n",
       "      <td>Dramas</td>\n",
       "      <td>5.7</td>\n",
       "      <td>1871</td>\n",
       "      <td>5.4</td>\n",
       "      <td>209</td>\n",
       "      <td>min</td>\n",
       "    </tr>\n",
       "    <tr>\n",
       "      <th>4253</th>\n",
       "      <td>s4254</td>\n",
       "      <td>Movie</td>\n",
       "      <td>Black Mirror: Bandersnatch</td>\n",
       "      <td>Unknown</td>\n",
       "      <td>Fionn Whitehead, Will Poulter, Craig Parkinson...</td>\n",
       "      <td>United States</td>\n",
       "      <td>28-Dec-18</td>\n",
       "      <td>2018</td>\n",
       "      <td>In 1984, a young programmer begins to question...</td>\n",
       "      <td>TV-MA</td>\n",
       "      <td>312 min</td>\n",
       "      <td>Dramas, International Movies, Sci-Fi &amp; Fantasy</td>\n",
       "      <td>7.6</td>\n",
       "      <td>26461</td>\n",
       "      <td>8.0</td>\n",
       "      <td>312</td>\n",
       "      <td>min</td>\n",
       "    </tr>\n",
       "    <tr>\n",
       "      <th>4573</th>\n",
       "      <td>s4574</td>\n",
       "      <td>Movie</td>\n",
       "      <td>Jodhaa Akbar</td>\n",
       "      <td>Ashutosh Gowariker</td>\n",
       "      <td>Hrithik Roshan, Aishwarya Rai Bachchan, Sonu S...</td>\n",
       "      <td>India</td>\n",
       "      <td>1-Oct-18</td>\n",
       "      <td>2008</td>\n",
       "      <td>In 16th-century India, what begins as a strate...</td>\n",
       "      <td>TV-14</td>\n",
       "      <td>214 min</td>\n",
       "      <td>Action &amp; Adventure, Dramas, International Movies</td>\n",
       "      <td>5.8</td>\n",
       "      <td>10437</td>\n",
       "      <td>6.1</td>\n",
       "      <td>214</td>\n",
       "      <td>min</td>\n",
       "    </tr>\n",
       "    <tr>\n",
       "      <th>7932</th>\n",
       "      <td>s7933</td>\n",
       "      <td>Movie</td>\n",
       "      <td>Sangam</td>\n",
       "      <td>Raj Kapoor</td>\n",
       "      <td>Raj Kapoor, Vyjayanthimala, Rajendra Kumar, La...</td>\n",
       "      <td>India</td>\n",
       "      <td>31-Dec-19</td>\n",
       "      <td>1964</td>\n",
       "      <td>Returning home from war after being assumed de...</td>\n",
       "      <td>TV-14</td>\n",
       "      <td>228 min</td>\n",
       "      <td>Classic Movies, Dramas, International Movies</td>\n",
       "      <td>8.0</td>\n",
       "      <td>8745</td>\n",
       "      <td>8.4</td>\n",
       "      <td>228</td>\n",
       "      <td>min</td>\n",
       "    </tr>\n",
       "    <tr>\n",
       "      <th>8327</th>\n",
       "      <td>s8328</td>\n",
       "      <td>Movie</td>\n",
       "      <td>The Gospel of Luke</td>\n",
       "      <td>David Batty</td>\n",
       "      <td>Selva Rasalingam, Karima Gouit, Mourad Zaoui, ...</td>\n",
       "      <td>United States, United Kingdom, Morocco</td>\n",
       "      <td>19-Oct-18</td>\n",
       "      <td>2015</td>\n",
       "      <td>Word-for-word Bible texts of the entire book o...</td>\n",
       "      <td>TV-14</td>\n",
       "      <td>205 min</td>\n",
       "      <td>Dramas, Faith &amp; Spirituality</td>\n",
       "      <td>7.9</td>\n",
       "      <td>11562</td>\n",
       "      <td>8.2</td>\n",
       "      <td>205</td>\n",
       "      <td>min</td>\n",
       "    </tr>\n",
       "    <tr>\n",
       "      <th>8404</th>\n",
       "      <td>s8405</td>\n",
       "      <td>Movie</td>\n",
       "      <td>The Lord of the Rings: The Return of the King</td>\n",
       "      <td>Peter Jackson</td>\n",
       "      <td>Elijah Wood, Ian McKellen, Liv Tyler, Viggo Mo...</td>\n",
       "      <td>New Zealand, United States</td>\n",
       "      <td>1-Jan-20</td>\n",
       "      <td>2003</td>\n",
       "      <td>Aragorn is revealed as the heir to the ancient...</td>\n",
       "      <td>PG-13</td>\n",
       "      <td>201 min</td>\n",
       "      <td>Action &amp; Adventure, Sci-Fi &amp; Fantasy</td>\n",
       "      <td>6.9</td>\n",
       "      <td>10093</td>\n",
       "      <td>7.4</td>\n",
       "      <td>201</td>\n",
       "      <td>min</td>\n",
       "    </tr>\n",
       "  </tbody>\n",
       "</table>\n",
       "</div>"
      ],
      "text/plain": [
       "     show_id   type                                              title  \\\n",
       "166     s167  Movie                        Once Upon a Time in America   \n",
       "717     s718  Movie                        Headspace: Unwind Your Mind   \n",
       "806     s807  Movie  Seven Souls in the Skull Castle: Season Moon J...   \n",
       "807     s808  Movie  Seven Souls in the Skull Castle: Season Moon K...   \n",
       "1019   s1020  Movie                                             Lagaan   \n",
       "2126   s2127  Movie                               What's Your Raashee?   \n",
       "2483   s2484  Movie                            Fifty Year Old Teenager   \n",
       "2484   s2485  Movie                                 Lock Your Girls In   \n",
       "2487   s2488  Movie                                     No Longer kids   \n",
       "2488   s2489  Movie                                    Raya and Sakina   \n",
       "2491   s2492  Movie                             The School of Mischief   \n",
       "2632   s2633  Movie                       No Direction Home: Bob Dylan   \n",
       "2731   s2732  Movie                           Kabhi Khushi Kabhie Gham   \n",
       "3227   s3228  Movie                                       The Irishman   \n",
       "4253   s4254  Movie                         Black Mirror: Bandersnatch   \n",
       "4573   s4574  Movie                                       Jodhaa Akbar   \n",
       "7932   s7933  Movie                                             Sangam   \n",
       "8327   s8328  Movie                                 The Gospel of Luke   \n",
       "8404   s8405  Movie      The Lord of the Rings: The Return of the King   \n",
       "\n",
       "                    director  \\\n",
       "166             Sergio Leone   \n",
       "717                  Unknown   \n",
       "806           Hidenori Inoue   \n",
       "807           Hidenori Inoue   \n",
       "1019      Ashutosh Gowariker   \n",
       "2126      Ashutosh Gowariker   \n",
       "2483         Fouad Al Shatti   \n",
       "2484       Fouad El-Mohandes   \n",
       "2487         Samir Al Asfory   \n",
       "2488           Hussein Kamal   \n",
       "2491  Houssam El-Din Mustafa   \n",
       "2632         Martin Scorsese   \n",
       "2731             Karan Johar   \n",
       "3227         Martin Scorsese   \n",
       "4253                 Unknown   \n",
       "4573      Ashutosh Gowariker   \n",
       "7932              Raj Kapoor   \n",
       "8327             David Batty   \n",
       "8404           Peter Jackson   \n",
       "\n",
       "                                                   cast  \\\n",
       "166   Robert De Niro, James Woods, Elizabeth McGover...   \n",
       "717   Andy Puddicombe, Evelyn Lewis Prieto, Ginger D...   \n",
       "806   Sota Fukushi, Taichi Saotome, Shohei Miura, Ke...   \n",
       "807   Mamoru Miyano, Hiroki Suzuki, Tomoki Hirose, R...   \n",
       "1019  Aamir Khan, Gracy Singh, Rachel Shelley, Paul ...   \n",
       "2126  Harman Baweja, Priyanka Chopra, Manju Singh, A...   \n",
       "2483  Abdulhussain Abdulredah, Haifaa Adel, Dawood H...   \n",
       "2484  Fouad El-Mohandes, Sanaa Younes, Sherihan, Ahm...   \n",
       "2487  Said Saleh, Hassan Moustafa, Ahmed Zaki, Youne...   \n",
       "2488  Suhair El-Babili, Shadia, Abdel Moneim Madboul...   \n",
       "2491  Suhair El-Babili, Adel Emam, Saeed Saleh, Youn...   \n",
       "2632  Bob Dylan, Joan Baez, Dave Van Ronk, Peter Yar...   \n",
       "2731  Amitabh Bachchan, Jaya Bhaduri, Shah Rukh Khan...   \n",
       "3227  Robert De Niro, Al Pacino, Joe Pesci, Harvey K...   \n",
       "4253  Fionn Whitehead, Will Poulter, Craig Parkinson...   \n",
       "4573  Hrithik Roshan, Aishwarya Rai Bachchan, Sonu S...   \n",
       "7932  Raj Kapoor, Vyjayanthimala, Rajendra Kumar, La...   \n",
       "8327  Selva Rasalingam, Karima Gouit, Mourad Zaoui, ...   \n",
       "8404  Elijah Wood, Ian McKellen, Liv Tyler, Viggo Mo...   \n",
       "\n",
       "                                     country date_added  release_year  \\\n",
       "166                     Italy, United States   1-Sep-21          1984   \n",
       "717                                  Unknown  15-Jun-21          2021   \n",
       "806                                  Unknown   2-Jun-21          2017   \n",
       "807                                  Unknown   2-Jun-21          2017   \n",
       "1019                   India, United Kingdom  17-Apr-21          2001   \n",
       "2126                                   India  15-Aug-20          2009   \n",
       "2483                                 Unknown  21-May-20          1996   \n",
       "2484                                 Unknown  21-May-20          1982   \n",
       "2487                                   Egypt  21-May-20          1979   \n",
       "2488                                 Unknown  21-May-20          1984   \n",
       "2491                                   Egypt  21-May-20          1973   \n",
       "2632    United Kingdom, United States, Japan  25-Apr-20          2005   \n",
       "2731                                   India   1-Apr-20          2001   \n",
       "3227                           United States  27-Nov-19          2019   \n",
       "4253                           United States  28-Dec-18          2018   \n",
       "4573                                   India   1-Oct-18          2008   \n",
       "7932                                   India  31-Dec-19          1964   \n",
       "8327  United States, United Kingdom, Morocco  19-Oct-18          2015   \n",
       "8404              New Zealand, United States   1-Jan-20          2003   \n",
       "\n",
       "                                            description rating duration  \\\n",
       "166   Director Sergio Leone's sprawling crime epic f...      R  229 min   \n",
       "717   Do you want to relax, meditate or sleep deeply...   TV-G  273 min   \n",
       "806   Japan, 1590. Wandering samurai band together t...  TV-14  204 min   \n",
       "807   Japan, 1590. Wandering samurai band together t...  TV-PG  212 min   \n",
       "1019  In 1890s India, an arrogant British commander ...     PG  224 min   \n",
       "2126  To protect his family from ruin, Yogesh must m...  TV-PG  203 min   \n",
       "2483  The life of a married 50-year-old doctor turns...  TV-14  204 min   \n",
       "2484  A widower believes he must marry off his three...  TV-PG  233 min   \n",
       "2487  Hoping to prevent their father from skipping t...  TV-14  237 min   \n",
       "2488  When robberies and murders targeting women swe...  TV-14  230 min   \n",
       "2491  A high school teacher volunteers to transform ...  TV-14  253 min   \n",
       "2632  Featuring rare concert footage and interviews ...  TV-MA  208 min   \n",
       "2731  Years after his father disowns his adopted bro...  TV-14  209 min   \n",
       "3227  Hit man Frank Sheeran looks back at the secret...      R  209 min   \n",
       "4253  In 1984, a young programmer begins to question...  TV-MA  312 min   \n",
       "4573  In 16th-century India, what begins as a strate...  TV-14  214 min   \n",
       "7932  Returning home from war after being assumed de...  TV-14  228 min   \n",
       "8327  Word-for-word Bible texts of the entire book o...  TV-14  205 min   \n",
       "8404  Aragorn is revealed as the heir to the ancient...  PG-13  201 min   \n",
       "\n",
       "                                             listed_in  score  votes  \\\n",
       "166                             Classic Movies, Dramas    4.2  22120   \n",
       "717                                      Documentaries    7.1    155   \n",
       "806   Action & Adventure, Dramas, International Movies    6.1  22579   \n",
       "807   Action & Adventure, Dramas, International Movies    6.8  13945   \n",
       "1019    Dramas, International Movies, Music & Musicals    6.7  14523   \n",
       "2126  Comedies, International Movies, Music & Musicals    6.0  13553   \n",
       "2483                    Comedies, International Movies    6.1   7778   \n",
       "2484   Comedies, International Movies, Romantic Movies    6.2  24102   \n",
       "2487            Comedies, Dramas, International Movies    6.8  15348   \n",
       "2488            Comedies, Dramas, International Movies    5.6  23130   \n",
       "2491            Comedies, Dramas, International Movies    6.2    362   \n",
       "2632                   Documentaries, Music & Musicals    6.8   7919   \n",
       "2731                      Dramas, International Movies    5.4   2569   \n",
       "3227                                            Dramas    5.7   1871   \n",
       "4253    Dramas, International Movies, Sci-Fi & Fantasy    7.6  26461   \n",
       "4573  Action & Adventure, Dramas, International Movies    5.8  10437   \n",
       "7932      Classic Movies, Dramas, International Movies    8.0   8745   \n",
       "8327                      Dramas, Faith & Spirituality    7.9  11562   \n",
       "8404              Action & Adventure, Sci-Fi & Fantasy    6.9  10093   \n",
       "\n",
       "      popularity  minutes unit  \n",
       "166          4.4      229  min  \n",
       "717          7.3      273  min  \n",
       "806          5.9      204  min  \n",
       "807          6.9      212  min  \n",
       "1019         6.9      224  min  \n",
       "2126         6.4      203  min  \n",
       "2483         6.4      204  min  \n",
       "2484         6.4      233  min  \n",
       "2487         6.3      237  min  \n",
       "2488         5.6      230  min  \n",
       "2491         6.2      253  min  \n",
       "2632         6.5      208  min  \n",
       "2731         5.0      209  min  \n",
       "3227         5.4      209  min  \n",
       "4253         8.0      312  min  \n",
       "4573         6.1      214  min  \n",
       "7932         8.4      228  min  \n",
       "8327         8.2      205  min  \n",
       "8404         7.4      201  min  "
      ]
     },
     "execution_count": 88,
     "metadata": {},
     "output_type": "execute_result"
    }
   ],
   "source": [
    "records_above_200 = join_data[join_data['minutes'] > 200]\n",
    "\n",
    "records_above_200"
   ]
  },
  {
   "cell_type": "code",
   "execution_count": 90,
   "id": "35cbb10e",
   "metadata": {},
   "outputs": [
    {
     "data": {
      "text/plain": [
       "19"
      ]
     },
     "execution_count": 90,
     "metadata": {},
     "output_type": "execute_result"
    }
   ],
   "source": [
    "total_records_above_200 = len(records_above_200)\n",
    "total_records_above_200"
   ]
  },
  {
   "cell_type": "code",
   "execution_count": null,
   "id": "28a563c6",
   "metadata": {},
   "outputs": [],
   "source": []
  },
  {
   "cell_type": "markdown",
   "id": "e7f1005a",
   "metadata": {},
   "source": [
    "Q11. What is the Average (mean) minutes of records whose **type** is **Movie**? Display the average **(no explanation needed)**"
   ]
  },
  {
   "cell_type": "code",
   "execution_count": 92,
   "id": "4069d8a8",
   "metadata": {},
   "outputs": [
    {
     "name": "stdout",
     "output_type": "stream",
     "text": [
      "99.52846191485891\n"
     ]
    }
   ],
   "source": [
    "average_movie_duration = join_data[join_data['type'] == 'Movie']['minutes'].mean()\n",
    "\n",
    "# Display the average\n",
    "print(average_movie_duration)"
   ]
  },
  {
   "cell_type": "code",
   "execution_count": null,
   "id": "1d0a8d25",
   "metadata": {},
   "outputs": [],
   "source": []
  },
  {
   "cell_type": "code",
   "execution_count": null,
   "id": "ab808a5a",
   "metadata": {},
   "outputs": [],
   "source": []
  },
  {
   "cell_type": "markdown",
   "id": "c22e4fb6",
   "metadata": {},
   "source": [
    "Q12. Which individual country has the Highest number of type TV Shows? Display the output **(no explanation needed)**"
   ]
  },
  {
   "cell_type": "code",
   "execution_count": 94,
   "id": "f7dc552c",
   "metadata": {},
   "outputs": [
    {
     "name": "stdout",
     "output_type": "stream",
     "text": [
      "('United States', 760)\n"
     ]
    }
   ],
   "source": [
    "tv_show_counts = join_data[join_data['type'] == 'TV Show']['country'].value_counts()\n",
    "\n",
    "# Find the country with the highest number of TV shows\n",
    "highest_tv_show_country = tv_show_counts.idxmax(), tv_show_counts.max()\n",
    "\n",
    "# Display the output\n",
    "print(highest_tv_show_country)"
   ]
  },
  {
   "cell_type": "code",
   "execution_count": null,
   "id": "0402133a",
   "metadata": {},
   "outputs": [],
   "source": []
  },
  {
   "cell_type": "code",
   "execution_count": null,
   "id": "3d020bf7",
   "metadata": {},
   "outputs": [],
   "source": []
  },
  {
   "cell_type": "markdown",
   "id": "f65f3b6f",
   "metadata": {},
   "source": [
    "Q13. For movie **title** '3 Idiots', what is the Show Id and Who is the Director of this show ? Display the output **(no explanation needed)**"
   ]
  },
  {
   "cell_type": "code",
   "execution_count": 96,
   "id": "8197fccf",
   "metadata": {},
   "outputs": [
    {
     "name": "stdout",
     "output_type": "stream",
     "text": [
      "     show_id         director\n",
      "1114   s1115  Rajkumar Hirani\n"
     ]
    }
   ],
   "source": [
    "movie_info = join_data[join_data['title'] == '3 Idiots'][['show_id', 'director']]\n",
    "\n",
    "print(movie_info)"
   ]
  },
  {
   "cell_type": "code",
   "execution_count": null,
   "id": "5dc18bd6",
   "metadata": {},
   "outputs": [],
   "source": []
  },
  {
   "cell_type": "code",
   "execution_count": null,
   "id": "0685606f",
   "metadata": {},
   "outputs": [],
   "source": []
  },
  {
   "cell_type": "markdown",
   "id": "9468bea1",
   "metadata": {},
   "source": [
    "Q14. Using Bar Graph, display the total number of movies released each year. Display only top 10 in descending order. (both types in column  **type**)<br>\n",
    "In your bar graph, which year the highest number of the movies were released?"
   ]
  },
  {
   "cell_type": "code",
   "execution_count": 108,
   "id": "1c861134",
   "metadata": {},
   "outputs": [
    {
     "data": {
      "image/png": "[encoded data removed]",
      "text/plain": [
       "<Figure size 1200x600 with 1 Axes>"
      ]
     },
     "metadata": {},
     "output_type": "display_data"
    }
   ],
   "source": [
    "movies_per_year = join_data[join_data['type'] == 'Movie']['release_year'].value_counts().head(10)\n",
    "\n",
    "# Create a bar graph\n",
    "plt.figure(figsize=(12, 6))\n",
    "movies_per_year.sort_values(ascending=False).plot(kind='bar', color='skyblue')\n",
    "plt.title('Total Number of Movies Released Each Year (Top 10)')\n",
    "plt.xlabel('Release Year')\n",
    "plt.ylabel('Number of Movies')\n",
    "plt.xticks(rotation=45)\n",
    "plt.grid(axis='y')\n",
    "plt.show()"
   ]
  },
  {
   "cell_type": "code",
   "execution_count": 100,
   "id": "c2f86e8d",
   "metadata": {},
   "outputs": [
    {
     "name": "stdout",
     "output_type": "stream",
     "text": [
      "Year with the highest number of movies released: 2017 with 767 movies.\n"
     ]
    }
   ],
   "source": [
    "# Year with the highest number of movies released\n",
    "highest_year = movies_per_year.idxmax(), movies_per_year.max()\n",
    "print(f\"Year with the highest number of movies released: {highest_year[0]} with {highest_year[1]} movies.\")"
   ]
  },
  {
   "cell_type": "code",
   "execution_count": null,
   "id": "8ecc7b8a",
   "metadata": {},
   "outputs": [],
   "source": []
  },
  {
   "cell_type": "markdown",
   "id": "22bc8a0b",
   "metadata": {},
   "source": [
    "Q15. Display Top 5 Directors, who directed the highest number of TV Shows & Movies ? **(no explanation needed)**"
   ]
  },
  {
   "cell_type": "code",
   "execution_count": 102,
   "id": "4d6dbb0b",
   "metadata": {},
   "outputs": [
    {
     "name": "stdout",
     "output_type": "stream",
     "text": [
      "director\n",
      "Unknown                   2634\n",
      "Rajiv Chilaka               19\n",
      "Raúl Campos, Jan Suter      18\n",
      "Suhas Kadav                 16\n",
      "Marcus Raboy                16\n",
      "Name: count, dtype: int64\n"
     ]
    }
   ],
   "source": [
    "top_directors = join_data['director'].value_counts().head(5)\n",
    "\n",
    "# Display the output\n",
    "print(top_directors)"
   ]
  },
  {
   "cell_type": "code",
   "execution_count": null,
   "id": "c74d392f",
   "metadata": {},
   "outputs": [],
   "source": []
  },
  {
   "cell_type": "code",
   "execution_count": null,
   "id": "2cc7b8f8",
   "metadata": {},
   "outputs": [],
   "source": []
  },
  {
   "cell_type": "markdown",
   "id": "3a167b2a",
   "metadata": {},
   "source": [
    "Q16. In how many movies/shows, Tom Cruise was casted? Display the records **(no explanation needed)**"
   ]
  },
  {
   "cell_type": "code",
   "execution_count": 106,
   "id": "be11ce0b",
   "metadata": {},
   "outputs": [
    {
     "data": {
      "text/html": [
       "<div>\n",
       "<style scoped>\n",
       "    .dataframe tbody tr th:only-of-type {\n",
       "        vertical-align: middle;\n",
       "    }\n",
       "\n",
       "    .dataframe tbody tr th {\n",
       "        vertical-align: top;\n",
       "    }\n",
       "\n",
       "    .dataframe thead th {\n",
       "        text-align: right;\n",
       "    }\n",
       "</style>\n",
       "<table border=\"1\" class=\"dataframe\">\n",
       "  <thead>\n",
       "    <tr style=\"text-align: right;\">\n",
       "      <th></th>\n",
       "      <th>show_id</th>\n",
       "      <th>type</th>\n",
       "      <th>title</th>\n",
       "      <th>director</th>\n",
       "      <th>cast</th>\n",
       "      <th>country</th>\n",
       "      <th>date_added</th>\n",
       "      <th>release_year</th>\n",
       "      <th>description</th>\n",
       "      <th>rating</th>\n",
       "      <th>duration</th>\n",
       "      <th>listed_in</th>\n",
       "      <th>score</th>\n",
       "      <th>votes</th>\n",
       "      <th>popularity</th>\n",
       "      <th>minutes</th>\n",
       "      <th>unit</th>\n",
       "    </tr>\n",
       "  </thead>\n",
       "  <tbody>\n",
       "    <tr>\n",
       "      <th>341</th>\n",
       "      <td>s342</td>\n",
       "      <td>Movie</td>\n",
       "      <td>Magnolia</td>\n",
       "      <td>Paul Thomas Anderson</td>\n",
       "      <td>John C. Reilly, Philip Baker Hall, Tom Cruise,...</td>\n",
       "      <td>United States</td>\n",
       "      <td>1-Aug-21</td>\n",
       "      <td>1999</td>\n",
       "      <td>Through chance, history and divine interventio...</td>\n",
       "      <td>R</td>\n",
       "      <td>189 min</td>\n",
       "      <td>Dramas, Independent Movies</td>\n",
       "      <td>4.3</td>\n",
       "      <td>12904</td>\n",
       "      <td>4.2</td>\n",
       "      <td>189</td>\n",
       "      <td>min</td>\n",
       "    </tr>\n",
       "    <tr>\n",
       "      <th>1254</th>\n",
       "      <td>s1255</td>\n",
       "      <td>Movie</td>\n",
       "      <td>Rain Man</td>\n",
       "      <td>Barry Levinson</td>\n",
       "      <td>Dustin Hoffman, Tom Cruise, Valeria Golino, Ge...</td>\n",
       "      <td>United States</td>\n",
       "      <td>1-Mar-21</td>\n",
       "      <td>1988</td>\n",
       "      <td>Motivated by money, a selfish workaholic seeki...</td>\n",
       "      <td>R</td>\n",
       "      <td>134 min</td>\n",
       "      <td>Classic Movies, Dramas</td>\n",
       "      <td>5.8</td>\n",
       "      <td>25711</td>\n",
       "      <td>5.6</td>\n",
       "      <td>134</td>\n",
       "      <td>min</td>\n",
       "    </tr>\n",
       "  </tbody>\n",
       "</table>\n",
       "</div>"
      ],
      "text/plain": [
       "     show_id   type     title              director  \\\n",
       "341     s342  Movie  Magnolia  Paul Thomas Anderson   \n",
       "1254   s1255  Movie  Rain Man        Barry Levinson   \n",
       "\n",
       "                                                   cast        country  \\\n",
       "341   John C. Reilly, Philip Baker Hall, Tom Cruise,...  United States   \n",
       "1254  Dustin Hoffman, Tom Cruise, Valeria Golino, Ge...  United States   \n",
       "\n",
       "     date_added  release_year  \\\n",
       "341    1-Aug-21          1999   \n",
       "1254   1-Mar-21          1988   \n",
       "\n",
       "                                            description rating duration  \\\n",
       "341   Through chance, history and divine interventio...      R  189 min   \n",
       "1254  Motivated by money, a selfish workaholic seeki...      R  134 min   \n",
       "\n",
       "                       listed_in  score  votes  popularity  minutes unit  \n",
       "341   Dramas, Independent Movies    4.3  12904         4.2      189  min  \n",
       "1254      Classic Movies, Dramas    5.8  25711         5.6      134  min  "
      ]
     },
     "execution_count": 106,
     "metadata": {},
     "output_type": "execute_result"
    }
   ],
   "source": [
    "tom_cruise_records = join_data[join_data['cast'].str.contains('Tom Cruise', na=False)]\n",
    "\n",
    "\n",
    "tom_cruise_records"
   ]
  },
  {
   "cell_type": "code",
   "execution_count": null,
   "id": "bee87713",
   "metadata": {},
   "outputs": [],
   "source": []
  },
  {
   "cell_type": "code",
   "execution_count": null,
   "id": "e91922c0",
   "metadata": {},
   "outputs": [],
   "source": []
  },
  {
   "cell_type": "markdown",
   "id": "8dd46777",
   "metadata": {},
   "source": [
    "Q17. Create a distribution plot (histogram) for **ratings** TV-14 and TV-MA and **type** (Hint: use **x** for rating and **hue** for type) <br>\n",
    "**(no explanation needed)**"
   ]
  },
  {
   "cell_type": "code",
   "execution_count": 110,
   "id": "8382f6e0",
   "metadata": {},
   "outputs": [
    {
     "data": {
      "image/png": "[encoded data removed]",
      "text/plain": [
       "<Figure size 1200x600 with 1 Axes>"
      ]
     },
     "metadata": {},
     "output_type": "display_data"
    }
   ],
   "source": [
    "filtered_data = join_data[join_data['rating'].isin(['TV-14', 'TV-MA'])]\n",
    "\n",
    "# Create a distribution plot (histogram) for ratings TV-14 and TV-MA with type as hue\n",
    "plt.figure(figsize=(12, 6))\n",
    "sns.histplot(data=filtered_data, x='rating', hue='type', multiple='stack', bins=10, kde=False)\n",
    "plt.title('Distribution of Ratings (TV-14 and TV-MA) by Type')\n",
    "plt.xlabel('Rating')\n",
    "plt.ylabel('Count')\n",
    "plt.show()"
   ]
  },
  {
   "cell_type": "code",
   "execution_count": null,
   "id": "3282d1b1",
   "metadata": {},
   "outputs": [],
   "source": []
  },
  {
   "cell_type": "code",
   "execution_count": null,
   "id": "de6bc760",
   "metadata": {},
   "outputs": [],
   "source": []
  },
  {
   "cell_type": "markdown",
   "id": "d9a965eb",
   "metadata": {},
   "source": [
    "Q18. Use a boxplot visualisation technique to see the highest, lowest and average **score** with the **type**? **Briefly explain your boxplot**"
   ]
  },
  {
   "cell_type": "code",
   "execution_count": 132,
   "id": "cc87866d",
   "metadata": {},
   "outputs": [
    {
     "data": {
      "image/png": "[encoded data removed]",
      "text/plain": [
       "<Figure size 1200x600 with 1 Axes>"
      ]
     },
     "metadata": {},
     "output_type": "display_data"
    }
   ],
   "source": [
    "# Create a boxplot to visualize the distribution of 'minutes' by 'type'\n",
    "plt.figure(figsize=(12, 6))\n",
    "sns.boxplot(data=join_data, x='type', y='score')\n",
    "plt.title('Boxplot of Scores by Type (TV Show vs Movie)')\n",
    "plt.xlabel('Type')\n",
    "plt.ylabel('Score')\n",
    "plt.grid(axis='y')\n",
    "plt.show()\n"
   ]
  },
  {
   "cell_type": "markdown",
   "id": "4087ab1d-cade-41db-a69d-b01a0e9a36fd",
   "metadata": {},
   "source": [
    "### The boxplot shows that both Movies and TV Shows have a median score of about 6.5. The highest score for both is around 9, while the lowest scores drop near 2 with some extreme outliers around 0. Most scores for both types fall between 5 and 8, indicating similar score distributions."
   ]
  },
  {
   "cell_type": "code",
   "execution_count": null,
   "id": "402b73aa",
   "metadata": {},
   "outputs": [],
   "source": []
  },
  {
   "cell_type": "markdown",
   "id": "7b760a5a",
   "metadata": {},
   "source": [
    "Q19. Use any visualization technique (think of any suitable plot) which can justify/show that \"As the **score** increases, the **popularity** also increases proportionally\". **Explain your findings in your plot**"
   ]
  },
  {
   "cell_type": "code",
   "execution_count": 118,
   "id": "53039832",
   "metadata": {},
   "outputs": [
    {
     "data": {
      "image/png": "[encoded data removed]",
      "text/plain": [
       "<Figure size 640x480 with 1 Axes>"
      ]
     },
     "metadata": {},
     "output_type": "display_data"
    }
   ],
   "source": [
    "sns.scatterplot(x='score', y='popularity', data=join_data)\n",
    "plt.title(\"Trend score v/s popularity\")\n",
    "plt.xlabel(\"Score\")\n",
    "plt.ylabel(\"Popularity\")\n",
    "plt.show()"
   ]
  },
  {
   "cell_type": "code",
   "execution_count": null,
   "id": "bff7cb90",
   "metadata": {},
   "outputs": [],
   "source": [
    "## The above scatter plot shows that as score increases, popularity also increases as well, as there is a very positive relationship between score and popularity confirming the above statement."
   ]
  },
  {
   "cell_type": "code",
   "execution_count": null,
   "id": "0389c225",
   "metadata": {},
   "outputs": [],
   "source": []
  },
  {
   "cell_type": "markdown",
   "id": "040552a3",
   "metadata": {},
   "source": [
    "Q20. Generate a correlation plot between **score** and **popularity**. **Briefly explain your findings?**"
   ]
  },
  {
   "cell_type": "code",
   "execution_count": 120,
   "id": "70dd9d11",
   "metadata": {},
   "outputs": [
    {
     "data": {
      "image/png": "[encoded data removed]",
      "text/plain": [
       "<Figure size 800x600 with 2 Axes>"
      ]
     },
     "metadata": {},
     "output_type": "display_data"
    }
   ],
   "source": [
    "correlation = join_data[['score', 'popularity']].corr()\n",
    "\n",
    "# Generate a heatmap to visualize the correlation\n",
    "plt.figure(figsize=(8, 6))\n",
    "sns.heatmap(correlation, annot=True, cmap='coolwarm', fmt='.2f', cbar=True)\n",
    "plt.title('Correlation Heatmap between Score and Popularity')\n",
    "plt.show()"
   ]
  },
  {
   "cell_type": "code",
   "execution_count": null,
   "id": "15687e3c",
   "metadata": {},
   "outputs": [],
   "source": [
    "### In the above co-relation plot it can be seen that there is a very positive co-relation between score and popularity.This shows that as score increases, popularity increases as well."
   ]
  },
  {
   "cell_type": "code",
   "execution_count": null,
   "id": "6f21dea5",
   "metadata": {},
   "outputs": [],
   "source": []
  },
  {
   "cell_type": "markdown",
   "id": "cdc9d3a9",
   "metadata": {},
   "source": [
    "Q21. Test the Hypothesis and explain your findings: <br> H0: the score of **type** = TV Show and **type** = Movie is same (equal or similar). <br>\n",
    "Ha: the score of **type** = TV Show is greater than **type** = Movie <br>\n",
    "**Briefly explain your conclusion**"
   ]
  },
  {
   "cell_type": "code",
   "execution_count": 123,
   "id": "4921fc66",
   "metadata": {},
   "outputs": [
    {
     "data": {
      "text/plain": [
       "TtestResult(statistic=7.393432583833722, pvalue=7.808967875701054e-14, df=8805.0)"
      ]
     },
     "execution_count": 123,
     "metadata": {},
     "output_type": "execute_result"
    }
   ],
   "source": [
    "# Separate scores based on type\n",
    "tv_show_scores = join_data[join_data['type'] == 'TV Show']['score']\n",
    "movie_scores = join_data[join_data['type'] == 'Movie']['score']\n",
    "\n",
    "stats.ttest_ind(tv_show_scores, movie_scores, alternative='greater')\n"
   ]
  },
  {
   "cell_type": "code",
   "execution_count": null,
   "id": "4944bb5c",
   "metadata": {},
   "outputs": [],
   "source": [
    "## As the p value < 0.05, we can reject the null hypothesis and accept the alternative hypothesis.\n",
    "## So we can conclude that the score of type tv show is greater than that of movie."
   ]
  },
  {
   "cell_type": "code",
   "execution_count": null,
   "id": "50363935",
   "metadata": {},
   "outputs": [],
   "source": []
  },
  {
   "cell_type": "markdown",
   "id": "b130cce8",
   "metadata": {},
   "source": [
    "Q22. Test the Hypothesis and explain your findings: <br> H0: **type** and **country** are independent and are not related to each other <br>\n",
    "Ha: **type** and **country** are dependent and related to each other <br>\n",
    "**Briefly explain your conclusion**"
   ]
  },
  {
   "cell_type": "code",
   "execution_count": 130,
   "id": "ec2a249c",
   "metadata": {},
   "outputs": [
    {
     "data": {
      "text/plain": [
       "Chi2ContingencyResult(statistic=1783.5060377822952, pvalue=3.439229187319296e-07, dof=1496, expected_freq=array([[7.13623261e-01, 7.13623261e-01, 3.99629026e+01, ...,\n",
       "        7.13623261e-01, 7.13623261e-01, 5.69400000e+03],\n",
       "       [2.86376739e-01, 2.86376739e-01, 1.60370974e+01, ...,\n",
       "        2.86376739e-01, 2.86376739e-01, 2.28500000e+03],\n",
       "       [1.00000000e+00, 1.00000000e+00, 5.60000000e+01, ...,\n",
       "        1.00000000e+00, 1.00000000e+00, 7.97900000e+03]]))"
      ]
     },
     "execution_count": 130,
     "metadata": {},
     "output_type": "execute_result"
    }
   ],
   "source": [
    "chisqt = pd.crosstab(df['type'],df['country'], margins=True)\n",
    "stats.chi2_contingency(chisqt)"
   ]
  },
  {
   "cell_type": "code",
   "execution_count": null,
   "id": "4a1dda57",
   "metadata": {},
   "outputs": [],
   "source": [
    "## As the p value < 0.05, we can reject the null hypothesis and accept the alternative hypothesis."
   ]
  },
  {
   "cell_type": "code",
   "execution_count": null,
   "id": "ad84c959",
   "metadata": {},
   "outputs": [],
   "source": [
    "## So we can conclude that type and country are dependent and related to each other."
   ]
  }
 ],
 "metadata": {
  "kernelspec": {
   "display_name": "Python 3 (ipykernel)",
   "language": "python",
   "name": "python3"
  },
  "language_info": {
   "codemirror_mode": {
    "name": "ipython",
    "version": 3
   },
   "file_extension": ".py",
   "mimetype": "text/x-python",
   "name": "python",
   "nbconvert_exporter": "python",
   "pygments_lexer": "ipython3",
   "version": "3.12.4"
  }
 },
 "nbformat": 4,
 "nbformat_minor": 5
}
