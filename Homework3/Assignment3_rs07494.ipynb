{
 "cells": [
  {
   "cell_type": "markdown",
   "id": "ad0442b8-a6aa-49f9-ab18-858be5bfc8cb",
   "metadata": {},
   "source": [
    "### Homework 3 Statistical Inference"
   ]
  },
  {
   "cell_type": "markdown",
   "id": "7c2c08f4-f7fa-4292-8829-b9c3f1e615d0",
   "metadata": {},
   "source": [
    "#### Rania Siddiqui 07494\n",
    "#### rs07494@st.habib.edu.pk"
   ]
  },
  {
   "cell_type": "code",
   "execution_count": 1,
   "id": "74d27dd3-3f5c-47be-817f-5a70d7942ab8",
   "metadata": {},
   "outputs": [],
   "source": [
    "import pandas as pd\n",
    "import numpy as np\n",
    "import seaborn as sns\n",
    "import matplotlib.pyplot as plt\n",
    "from scipy import stats"
   ]
  },
  {
   "cell_type": "code",
   "execution_count": 2,
   "id": "beab48e6-e864-4189-b2ea-aa1f5fbd9445",
   "metadata": {},
   "outputs": [],
   "source": [
    "df = pd.read_csv('student-scores.csv')"
   ]
  },
  {
   "cell_type": "code",
   "execution_count": 3,
   "id": "74e77ff7-da66-487e-962a-804ca5c72df8",
   "metadata": {},
   "outputs": [
    {
     "data": {
      "text/html": [
       "<div>\n",
       "<style scoped>\n",
       "    .dataframe tbody tr th:only-of-type {\n",
       "        vertical-align: middle;\n",
       "    }\n",
       "\n",
       "    .dataframe tbody tr th {\n",
       "        vertical-align: top;\n",
       "    }\n",
       "\n",
       "    .dataframe thead th {\n",
       "        text-align: right;\n",
       "    }\n",
       "</style>\n",
       "<table border=\"1\" class=\"dataframe\">\n",
       "  <thead>\n",
       "    <tr style=\"text-align: right;\">\n",
       "      <th></th>\n",
       "      <th>id</th>\n",
       "      <th>first_name</th>\n",
       "      <th>last_name</th>\n",
       "      <th>email</th>\n",
       "      <th>gender</th>\n",
       "      <th>part_time_job</th>\n",
       "      <th>absence_days</th>\n",
       "      <th>extracurricular_activities</th>\n",
       "      <th>weekly_self_study_hours</th>\n",
       "      <th>career_aspiration</th>\n",
       "      <th>math_score</th>\n",
       "      <th>history_score</th>\n",
       "      <th>physics_score</th>\n",
       "      <th>chemistry_score</th>\n",
       "      <th>biology_score</th>\n",
       "      <th>english_score</th>\n",
       "      <th>geography_score</th>\n",
       "    </tr>\n",
       "  </thead>\n",
       "  <tbody>\n",
       "    <tr>\n",
       "      <th>0</th>\n",
       "      <td>1</td>\n",
       "      <td>Paul</td>\n",
       "      <td>Casey</td>\n",
       "      <td>paul.casey.1@gslingacademy.com</td>\n",
       "      <td>male</td>\n",
       "      <td>False</td>\n",
       "      <td>3</td>\n",
       "      <td>False</td>\n",
       "      <td>27</td>\n",
       "      <td>Lawyer</td>\n",
       "      <td>73</td>\n",
       "      <td>81</td>\n",
       "      <td>93</td>\n",
       "      <td>97</td>\n",
       "      <td>63</td>\n",
       "      <td>80</td>\n",
       "      <td>87</td>\n",
       "    </tr>\n",
       "    <tr>\n",
       "      <th>1</th>\n",
       "      <td>2</td>\n",
       "      <td>Danielle</td>\n",
       "      <td>Sandoval</td>\n",
       "      <td>danielle.sandoval.2@gslingacademy.com</td>\n",
       "      <td>female</td>\n",
       "      <td>False</td>\n",
       "      <td>2</td>\n",
       "      <td>False</td>\n",
       "      <td>47</td>\n",
       "      <td>Doctor</td>\n",
       "      <td>90</td>\n",
       "      <td>86</td>\n",
       "      <td>96</td>\n",
       "      <td>100</td>\n",
       "      <td>90</td>\n",
       "      <td>88</td>\n",
       "      <td>90</td>\n",
       "    </tr>\n",
       "    <tr>\n",
       "      <th>2</th>\n",
       "      <td>3</td>\n",
       "      <td>Tina</td>\n",
       "      <td>Andrews</td>\n",
       "      <td>tina.andrews.3@gslingacademy.com</td>\n",
       "      <td>female</td>\n",
       "      <td>False</td>\n",
       "      <td>9</td>\n",
       "      <td>True</td>\n",
       "      <td>13</td>\n",
       "      <td>Government Officer</td>\n",
       "      <td>81</td>\n",
       "      <td>97</td>\n",
       "      <td>95</td>\n",
       "      <td>96</td>\n",
       "      <td>65</td>\n",
       "      <td>77</td>\n",
       "      <td>94</td>\n",
       "    </tr>\n",
       "    <tr>\n",
       "      <th>3</th>\n",
       "      <td>4</td>\n",
       "      <td>Tara</td>\n",
       "      <td>Clark</td>\n",
       "      <td>tara.clark.4@gslingacademy.com</td>\n",
       "      <td>female</td>\n",
       "      <td>False</td>\n",
       "      <td>5</td>\n",
       "      <td>False</td>\n",
       "      <td>3</td>\n",
       "      <td>Artist</td>\n",
       "      <td>71</td>\n",
       "      <td>74</td>\n",
       "      <td>88</td>\n",
       "      <td>80</td>\n",
       "      <td>89</td>\n",
       "      <td>63</td>\n",
       "      <td>86</td>\n",
       "    </tr>\n",
       "    <tr>\n",
       "      <th>4</th>\n",
       "      <td>5</td>\n",
       "      <td>Anthony</td>\n",
       "      <td>Campos</td>\n",
       "      <td>anthony.campos.5@gslingacademy.com</td>\n",
       "      <td>male</td>\n",
       "      <td>False</td>\n",
       "      <td>5</td>\n",
       "      <td>False</td>\n",
       "      <td>10</td>\n",
       "      <td>Unknown</td>\n",
       "      <td>84</td>\n",
       "      <td>77</td>\n",
       "      <td>65</td>\n",
       "      <td>65</td>\n",
       "      <td>80</td>\n",
       "      <td>74</td>\n",
       "      <td>76</td>\n",
       "    </tr>\n",
       "  </tbody>\n",
       "</table>\n",
       "</div>"
      ],
      "text/plain": [
       "   id first_name last_name                                  email  gender  \\\n",
       "0   1       Paul     Casey         paul.casey.1@gslingacademy.com    male   \n",
       "1   2   Danielle  Sandoval  danielle.sandoval.2@gslingacademy.com  female   \n",
       "2   3       Tina   Andrews       tina.andrews.3@gslingacademy.com  female   \n",
       "3   4       Tara     Clark         tara.clark.4@gslingacademy.com  female   \n",
       "4   5    Anthony    Campos     anthony.campos.5@gslingacademy.com    male   \n",
       "\n",
       "   part_time_job  absence_days  extracurricular_activities  \\\n",
       "0          False             3                       False   \n",
       "1          False             2                       False   \n",
       "2          False             9                        True   \n",
       "3          False             5                       False   \n",
       "4          False             5                       False   \n",
       "\n",
       "   weekly_self_study_hours   career_aspiration  math_score  history_score  \\\n",
       "0                       27              Lawyer          73             81   \n",
       "1                       47              Doctor          90             86   \n",
       "2                       13  Government Officer          81             97   \n",
       "3                        3              Artist          71             74   \n",
       "4                       10             Unknown          84             77   \n",
       "\n",
       "   physics_score  chemistry_score  biology_score  english_score  \\\n",
       "0             93               97             63             80   \n",
       "1             96              100             90             88   \n",
       "2             95               96             65             77   \n",
       "3             88               80             89             63   \n",
       "4             65               65             80             74   \n",
       "\n",
       "   geography_score  \n",
       "0               87  \n",
       "1               90  \n",
       "2               94  \n",
       "3               86  \n",
       "4               76  "
      ]
     },
     "execution_count": 3,
     "metadata": {},
     "output_type": "execute_result"
    }
   ],
   "source": [
    "df.head()"
   ]
  },
  {
   "cell_type": "markdown",
   "id": "e031f2df-ec57-4c5e-8afd-1d5dbe80c007",
   "metadata": {},
   "source": [
    "### Q1"
   ]
  },
  {
   "cell_type": "markdown",
   "id": "fdf6d189-27fc-44bc-bdbe-20b80524e791",
   "metadata": {},
   "source": [
    "H0 -> math_score of males and females are same\n",
    "\n",
    "Ha -> Math scores of males is greater than females"
   ]
  },
  {
   "cell_type": "code",
   "execution_count": 9,
   "id": "dd18bad8-9567-42b1-95f9-f8b68cdd3782",
   "metadata": {},
   "outputs": [
    {
     "data": {
      "text/plain": [
       "TtestResult(statistic=2.2371559026936256, pvalue=0.012693020299630226, df=1998.0)"
      ]
     },
     "execution_count": 9,
     "metadata": {},
     "output_type": "execute_result"
    }
   ],
   "source": [
    "male_score = df[(df['gender'] == 'male')]['math_score']\n",
    "\n",
    "female_score = df[(df['gender'] == 'female')]['math_score']\n",
    "\n",
    "stats.ttest_ind(male_score, female_score, alternative='greater')"
   ]
  },
  {
   "cell_type": "markdown",
   "id": "eee8904b-05d1-481e-8566-f28cb176954d",
   "metadata": {},
   "source": [
    "Since, p_value = 0.012 < 0.05 we can reject null hypothesis that is math scores of males and females are the same. And so we have to accept the alternative hypothesis that says math scores of males is greater than females."
   ]
  },
  {
   "cell_type": "markdown",
   "id": "6cadd539-d23e-429f-a8bb-15d82e97ffa7",
   "metadata": {},
   "source": [
    "### Q2"
   ]
  },
  {
   "cell_type": "markdown",
   "id": "84a754e4-3fac-4f36-9720-1301d80a234b",
   "metadata": {},
   "source": [
    "HO -> math scores of non doctors is same as that of doctors\n",
    "\n",
    "Ha -> math scores of non doctors is greater than doctors"
   ]
  },
  {
   "cell_type": "code",
   "execution_count": 14,
   "id": "67490032-e887-4dff-b2f6-5a925c5d8579",
   "metadata": {},
   "outputs": [
    {
     "data": {
      "text/plain": [
       "TtestResult(statistic=-7.389083205876682, pvalue=0.999999999999892, df=1998.0)"
      ]
     },
     "execution_count": 14,
     "metadata": {},
     "output_type": "execute_result"
    }
   ],
   "source": [
    "math_score_non_doctors = df[(df['career_aspiration'] != 'Doctor')]['math_score']\n",
    "math_score_doctors = df[(df['career_aspiration'] == 'Doctor')]['math_score']\n",
    "\n",
    "stats.ttest_ind(math_score_non_doctors,math_score_doctors, alternative='greater')"
   ]
  },
  {
   "cell_type": "markdown",
   "id": "6a6bd381-0322-4697-94b2-d7bbef410849",
   "metadata": {},
   "source": [
    "Since, p_value = 0.99 > 0.5, we accept the null hypothesis and reject the alternative hypothesis which says that math score of non-doctors is greater than that of doctors. So we come to a conclusion that math scores of doctors and non doctors are same."
   ]
  },
  {
   "cell_type": "markdown",
   "id": "03181598-6582-4429-bbde-50c281dcbb1c",
   "metadata": {},
   "source": [
    "### Q3"
   ]
  },
  {
   "cell_type": "markdown",
   "id": "33ab417e-2cab-4007-9b6c-59cfb7637dd9",
   "metadata": {},
   "source": [
    "HO -> weekly_self_study_hours of males and females are same\n",
    "\n",
    "H1 -> weekly_self_study_hours of males are greater than females."
   ]
  },
  {
   "cell_type": "code",
   "execution_count": 19,
   "id": "f63acfba-11a9-4619-acee-4d99a83fe6bb",
   "metadata": {},
   "outputs": [
    {
     "data": {
      "text/plain": [
       "TtestResult(statistic=3.4567831650474443, pvalue=0.00027905018418441824, df=1998.0)"
      ]
     },
     "execution_count": 19,
     "metadata": {},
     "output_type": "execute_result"
    }
   ],
   "source": [
    "male_weekly_hours = df[(df['gender'] == 'male')]['weekly_self_study_hours']\n",
    "\n",
    "female_weekly_hours = df[(df['gender'] == 'female')]['weekly_self_study_hours']\n",
    "\n",
    "stats.ttest_ind(male_weekly_hours, female_weekly_hours, alternative='greater')"
   ]
  },
  {
   "cell_type": "markdown",
   "id": "05d8abbf-1b0b-4d14-99fc-bc531e4f8ede",
   "metadata": {},
   "source": [
    "Since, p_value = 0.0027 < 0.05, we can reject the null hypothesis which says that weekly self study hours of males and females are the same. And so for that reason we have to accept the alternative hypothesis which says weekly self study hours of males are greater than females."
   ]
  },
  {
   "cell_type": "markdown",
   "id": "abed61d5-8e95-430e-b39d-8adb45d747dd",
   "metadata": {},
   "source": [
    "### Q4"
   ]
  },
  {
   "cell_type": "markdown",
   "id": "695cc08b-2498-4bf6-8a44-e0f1c4ca8107",
   "metadata": {},
   "source": [
    "Ho -> math score of no part time male students is equal to or same as part time male students\n",
    "\n",
    "Ha -> math score of no part time male students is greater than part time male students"
   ]
  },
  {
   "cell_type": "code",
   "execution_count": 60,
   "id": "43d6aa26-ee08-48fe-a150-eb1d083363f9",
   "metadata": {},
   "outputs": [
    {
     "data": {
      "text/plain": [
       "TtestResult(statistic=5.8026672393780085, pvalue=4.3820239750124745e-09, df=996.0)"
      ]
     },
     "execution_count": 60,
     "metadata": {},
     "output_type": "execute_result"
    }
   ],
   "source": [
    "no_part_time_male = df[(df['part_time_job'] == False) & (df['gender'] == 'male')]['math_score']\n",
    "\n",
    "part_time_male = df[(df['part_time_job'] == True) & (df['gender'] == 'male')]['math_score']\n",
    "stats.ttest_ind(no_part_time_male, part_time_male, alternative='greater')"
   ]
  },
  {
   "cell_type": "markdown",
   "id": "cd0bb242-cc95-4f0b-99de-51ff985e1e50",
   "metadata": {},
   "source": [
    "Since p_value < 0.05, we will reject the null hypothesis and accept the alternative hypothesis which says that males who dont work part time, their math scores are greater than those who work part time. This shows that having a job alongside studies gets a little hard to manage as indicated by the math scores. "
   ]
  },
  {
   "cell_type": "markdown",
   "id": "5106d664-ad85-4848-a633-c0cf436b2aeb",
   "metadata": {},
   "source": [
    "### Q5"
   ]
  },
  {
   "cell_type": "markdown",
   "id": "dc56a3a4-94e4-4253-8135-639f7cc256c5",
   "metadata": {},
   "source": [
    "HO -> Average of history score is same as geography score\n",
    "\n",
    "Ha -> Average of history score is less than geography score"
   ]
  },
  {
   "cell_type": "code",
   "execution_count": 31,
   "id": "0a9d50c1-f9fb-464d-a80c-6d483a70fe27",
   "metadata": {},
   "outputs": [
    {
     "data": {
      "text/plain": [
       "TtestResult(statistic=-1.4412586066465385, pvalue=0.07479497633658547, df=3998.0)"
      ]
     },
     "execution_count": 31,
     "metadata": {},
     "output_type": "execute_result"
    }
   ],
   "source": [
    "stats.ttest_ind(df['history_score'], df['geography_score'] , alternative=\"less\")"
   ]
  },
  {
   "cell_type": "markdown",
   "id": "fbb16595-cf8a-4358-b74d-880a9d1ddd01",
   "metadata": {},
   "source": [
    "Since p_value 0.074 > 0.05, we accept the null hypothesis and conclude that average of history score is same as geography score. This also means that there is insufficient evidence to show that the avergae of history score is same as geography score."
   ]
  },
  {
   "cell_type": "markdown",
   "id": "4f7bc8eb-9049-4311-bafe-3087c1d50655",
   "metadata": {},
   "source": [
    "### Q6"
   ]
  },
  {
   "cell_type": "markdown",
   "id": "02d4f608-bf22-4e67-b1fe-51de5f8910dd",
   "metadata": {},
   "source": [
    "HO -> Average of math score is same as biology score\n",
    "\n",
    "Ha -> Average of math score is greater than biology score"
   ]
  },
  {
   "cell_type": "code",
   "execution_count": 36,
   "id": "3abd4005-0824-4dbe-af8f-3b1e35b58156",
   "metadata": {},
   "outputs": [
    {
     "data": {
      "text/plain": [
       "TtestResult(statistic=9.082620143235266, pvalue=8.146293509285797e-20, df=3998.0)"
      ]
     },
     "execution_count": 36,
     "metadata": {},
     "output_type": "execute_result"
    }
   ],
   "source": [
    "stats.ttest_ind(df['math_score'], df['biology_score'] , alternative=\"greater\")"
   ]
  },
  {
   "cell_type": "markdown",
   "id": "729ab245-e01e-40ed-ac3d-a534a00ba003",
   "metadata": {},
   "source": [
    "Since, p_value is less than 0.05, we reject the null hypothesis and accept the alternative hypothesis and conclude that average of math score is greater than biology score. "
   ]
  },
  {
   "cell_type": "markdown",
   "id": "50194fbb-8555-4aa6-9cba-2e7665ac739d",
   "metadata": {},
   "source": [
    "### Q7"
   ]
  },
  {
   "cell_type": "markdown",
   "id": "8dde611c-382d-4661-b43e-2804b218f17f",
   "metadata": {},
   "source": [
    "Ho -> weekly_self_study_hours of extracurricular_activities is same as self study hours of no \n",
    "extracurricular_activities\n",
    "\n",
    "Ha -> weekly_self_study_hours of extracurricular_activities is less than no\r\n",
    "extracurricular_activities.."
   ]
  },
  {
   "cell_type": "code",
   "execution_count": 41,
   "id": "e60e5869-504b-4013-b7e9-89de672e9a4f",
   "metadata": {},
   "outputs": [
    {
     "data": {
      "text/plain": [
       "TtestResult(statistic=-2.3506159912870577, pvalue=0.009419553161020007, df=1998.0)"
      ]
     },
     "execution_count": 41,
     "metadata": {},
     "output_type": "execute_result"
    }
   ],
   "source": [
    "hours_extra_curricular_activities = df[(df['extracurricular_activities'] == True)]['weekly_self_study_hours']\n",
    "\n",
    "no_hours_extra_curricular_activities = df[(df['extracurricular_activities'] == False)]['weekly_self_study_hours']\n",
    "\n",
    "stats.ttest_ind(hours_extra_curricular_activities, no_hours_extra_curricular_activities, alternative=\"less\")"
   ]
  },
  {
   "cell_type": "markdown",
   "id": "c2e2d651-98ce-4eee-bc23-11e31782e957",
   "metadata": {},
   "source": [
    "Since p_value is less than 0.05, we reject the null hypothesis and accept the alternative hypothesis. So we can conclude that people who are engaged in extra curricular activities have less time for self study. "
   ]
  },
  {
   "cell_type": "markdown",
   "id": "c9a4e984-de44-48ae-965b-13ce6b39ca98",
   "metadata": {},
   "source": [
    "### Q8"
   ]
  },
  {
   "cell_type": "markdown",
   "id": "d35fe15f-f49a-4030-af5f-7d9625cb765f",
   "metadata": {},
   "source": [
    "HO -> absence days of females are same as males\n",
    "\n",
    "Ha -> absence days of females are less than males"
   ]
  },
  {
   "cell_type": "code",
   "execution_count": 46,
   "id": "71fe088e-3ea5-499d-866e-419e5acd067e",
   "metadata": {},
   "outputs": [
    {
     "data": {
      "text/plain": [
       "TtestResult(statistic=1.3128102331149203, pvalue=0.9053011661354035, df=1998.0)"
      ]
     },
     "execution_count": 46,
     "metadata": {},
     "output_type": "execute_result"
    }
   ],
   "source": [
    "absence_days_fem = df[(df['gender'] == 'female')]['absence_days']\n",
    "\n",
    "absence_days_male = df[(df['gender'] == 'male')]['absence_days']\n",
    "\n",
    "stats.ttest_ind(absence_days_fem, absence_days_male, alternative='less')"
   ]
  },
  {
   "cell_type": "markdown",
   "id": "e33ce483-baf3-4de8-92e2-b586810cbadc",
   "metadata": {},
   "source": [
    "Since, p_value = 0.905 > 0.05, we can accept the null hypothesis and say that absence days of females are same as males and reject the alternative hypothesis."
   ]
  },
  {
   "cell_type": "markdown",
   "id": "75df551a-396f-4f57-978f-e295f60408a1",
   "metadata": {},
   "source": [
    "### Q9"
   ]
  },
  {
   "cell_type": "markdown",
   "id": "b2b2dd84-d386-422d-ac58-28e8bb3273d9",
   "metadata": {},
   "source": [
    "Ho =  There is no association between gender and career_aspiration.\n",
    "\n",
    "Ha = There is an association between gender and career_aspiration."
   ]
  },
  {
   "cell_type": "code",
   "execution_count": 51,
   "id": "786776f8-c5c7-4509-905f-e0a4e6dcfd5d",
   "metadata": {},
   "outputs": [
    {
     "data": {
      "text/plain": [
       "Chi2ContingencyResult(statistic=155.39466648000175, pvalue=1.9087221746002932e-17, dof=34, expected_freq=array([[  63.126,   33.567,   84.669,  154.809,   34.068,   28.056,\n",
       "          59.619,   31.563,   30.561,   69.138,   41.583,   19.539,\n",
       "         157.815,   36.573,   29.559,  111.723,   16.032, 1002.   ],\n",
       "       [  62.874,   33.433,   84.331,  154.191,   33.932,   27.944,\n",
       "          59.381,   31.437,   30.439,   68.862,   41.417,   19.461,\n",
       "         157.185,   36.427,   29.441,  111.277,   15.968,  998.   ],\n",
       "       [ 126.   ,   67.   ,  169.   ,  309.   ,   68.   ,   56.   ,\n",
       "         119.   ,   63.   ,   61.   ,  138.   ,   83.   ,   39.   ,\n",
       "         315.   ,   73.   ,   59.   ,  223.   ,   32.   , 2000.   ]]))"
      ]
     },
     "execution_count": 51,
     "metadata": {},
     "output_type": "execute_result"
    }
   ],
   "source": [
    "chisqt = pd.crosstab(df['gender'],df['career_aspiration'], margins=True)\n",
    "stats.chi2_contingency(chisqt)"
   ]
  },
  {
   "cell_type": "markdown",
   "id": "014577f5-79fe-4365-b699-215140539587",
   "metadata": {},
   "source": [
    "Since, p_value = 1.90x10^-17 < 0.05, we reject the null hypothesis and accept the alternative hypothesis. So we conclude that there is an association between gender and career aspiration. "
   ]
  },
  {
   "cell_type": "markdown",
   "id": "b1b7f5ec-82e3-4e9a-a86c-34041e3c5ca3",
   "metadata": {},
   "source": [
    "### Q10"
   ]
  },
  {
   "cell_type": "markdown",
   "id": "5b148bb2-7321-4b93-8f10-0bcf303a552d",
   "metadata": {},
   "source": [
    "Ho = There is no association between gender and part time job.\r\n",
    "\n",
    "Ha = There is an association between gender and part time jobn."
   ]
  },
  {
   "cell_type": "code",
   "execution_count": 56,
   "id": "860aaa22-ecc9-40be-883f-c531d986262f",
   "metadata": {},
   "outputs": [
    {
     "data": {
      "text/plain": [
       "Chi2ContingencyResult(statistic=1.1337105392319442, pvalue=0.8888874344046543, dof=4, expected_freq=array([[ 843.684,  158.316, 1002.   ],\n",
       "       [ 840.316,  157.684,  998.   ],\n",
       "       [1684.   ,  316.   , 2000.   ]]))"
      ]
     },
     "execution_count": 56,
     "metadata": {},
     "output_type": "execute_result"
    }
   ],
   "source": [
    "chisqt = pd.crosstab(df['gender'],df['part_time_job'], margins=True)\n",
    "stats.chi2_contingency(chisqt)"
   ]
  },
  {
   "cell_type": "markdown",
   "id": "c7d35871-e0f3-4a09-8ca2-d99fb43afbad",
   "metadata": {},
   "source": [
    "Since p_value = 0.88 > 0.05, we accept the null hypothesis and conclude that there is no association between gender and part time job. "
   ]
  }
 ],
 "metadata": {
  "kernelspec": {
   "display_name": "Python 3 (ipykernel)",
   "language": "python",
   "name": "python3"
  },
  "language_info": {
   "codemirror_mode": {
    "name": "ipython",
    "version": 3
   },
   "file_extension": ".py",
   "mimetype": "text/x-python",
   "name": "python",
   "nbconvert_exporter": "python",
   "pygments_lexer": "ipython3",
   "version": "3.12.4"
  }
 },
 "nbformat": 4,
 "nbformat_minor": 5
}
